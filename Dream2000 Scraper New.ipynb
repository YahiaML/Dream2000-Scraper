{
 "cells": [
  {
   "cell_type": "code",
   "execution_count": 1,
   "id": "d77191c2",
   "metadata": {},
   "outputs": [],
   "source": [
    "#!pip install fake_useragent\n",
    "#!pip install msedge-selenium-tools\n",
    "from selenium import webdriver\n",
    "from selenium.webdriver.common.by import By\n",
    "from selenium.webdriver.common.keys import Keys\n",
    "from msedge.selenium_tools import Edge, EdgeOptions\n",
    "from fake_useragent import UserAgent\n",
    "from bs4 import BeautifulSoup\n",
    "import requests\n",
    "import pandas as pd\n",
    "import numpy as np\n",
    "import re\n",
    "import os\n",
    "from io import BytesIO\n",
    "import random\n",
    "import time"
   ]
  },
  {
   "cell_type": "markdown",
   "id": "d6a79f44",
   "metadata": {},
   "source": [
    "#  =====================Gathering categories ====================="
   ]
  },
  {
   "cell_type": "code",
   "execution_count": null,
   "id": "4ce61903",
   "metadata": {},
   "outputs": [],
   "source": [
    "                        ### ======================= Gathering categories ======================= ###\n",
    "    \n",
    "    \n",
    "#Data Arabic\n",
    "response_ar = requests.get(\"https://dream2000.com\")\n",
    "data_ar = response_ar.text\n",
    "soup_ar = BeautifulSoup(data_ar,\"html.parser\")\n",
    "categories_ar = soup_ar.find_all('li',{'class':'ui-menu-item level0 staticwidth parent'})\n",
    "\n",
    "#Data English\n",
    "response_en = requests.get(\"https://dream2000.com/en\")\n",
    "data_en = response_en.text\n",
    "soup_en = BeautifulSoup(data_en,\"html.parser\")\n",
    "categories_en = soup_en.find_all('li',{'class':'ui-menu-item level0 staticwidth parent'})\n",
    "\n",
    "categories_ar = soup_ar.find_all('li',{'class':'ui-menu-item level0 staticwidth parent'})\n",
    "cat_ar_list, cat_en_list, sub_cat_ar_list, sub_cat_en_list, sub_sub_cat_ar_list, sub_sub_cat_en_list,  cat_ar_links, cat_en_links, sub_cat_ar_links, sub_cat_en_links, sub_sub_cat_ar_links, sub_sub_cat_en_links = [],[],[],[],[],[],[],[],[],[],[],[]\n",
    "\n",
    "\n",
    "response_ar = requests.get(\"https://dream2000.com\")\n",
    "data_ar = response_ar.text\n",
    "soup_ar = BeautifulSoup(data_ar,\"html.parser\")\n",
    "categories_ar = soup_ar.find_all('li',{'class':'ui-menu-item level0 staticwidth parent'})\n",
    "\n",
    "\n",
    "# ========================= Find Arabic Data   ========================= #      \n",
    "for cat in categories_ar:    \n",
    "    category_ar = cat.find(\"a\", {'class':'level-top'})    \n",
    "\n",
    "    ## ==== Don't Have Sub_sub_cat ==== ##\n",
    "    if category_ar.text.strip() in [\"موبايلات\", \"تابلت\"]:\n",
    "        cat_ar = category_ar.text.strip()\n",
    "        cat_ar_link = category_ar[\"href\"]\n",
    "        \n",
    "        sub_cats = cat.find(\"div\", {'class':'level0 submenu'})\n",
    "        \n",
    "        for sub_cat in sub_cats.find_all(\"li\", {'class':'ui-menu-item level1'}):            \n",
    "            \n",
    "            sub_cat_ar = sub_cat.text.replace(\"Hot!\", \"\").replace(\"New\", \"\").replace(\"Sale\", \"\")\n",
    "            sub_cat_ar_link = sub_cat.find(\"a\")[\"href\"]\n",
    "            \n",
    "            # category_ar\n",
    "            cat_ar_list.append(cat_ar.strip())\n",
    "            cat_ar_links.append(cat_ar_link)\n",
    "\n",
    "            # Sub_category_ar\n",
    "            sub_cat_ar_list.append(sub_cat_ar.strip())\n",
    "            sub_cat_ar_links.append(sub_cat_ar_link)\n",
    "\n",
    "\n",
    "            # Sub_sub_category_ar\n",
    "            sub_sub_cat_ar_list.append(np.nan)                \n",
    "            sub_sub_cat_ar_links.append(np.nan)\n",
    "    \n",
    "    \n",
    "    ## ==== Have Sub_sub_cat ==== ##\n",
    "    else:\n",
    "        for link in cat.find_all('a', title=True):\n",
    "            title = link['title'].strip()\n",
    "                        \n",
    "            if title == cat.find(\"a\", {'class':'level-top'}).text:\n",
    "                cat_ar = title\n",
    "                cat_ar_link = link[\"href\"]\n",
    "            \n",
    "            elif title in [\"لاب توب\" , \"شاشات\", \"طابعات\", \"اكسسوارات كمبيوتر\", \"وسائط تخزين\", \"ديسك توب\", \"اكسسوارات موبايل\", \"أجهزة صوت\", \"ساعات ذكية\", \"اكسسوارات السيارة\",\"كاميرات مراقبة\", \"اكسسوارات تصوير\",\"اجهزه شبكات\",\"ميزان ألكتروني\",\"بطاريات\",\"كاميرا ديجيتال\",\"اسكوتر\",\"أجهزة منزلية صغيرة\",\"معدات و مشتركات كهربائية\",\"بلاي ستيشن\",\"أذرع تحكم\",\"سي دي العاب\",\"اكسسوارات العاب\" ]:\n",
    "                sub_cat_ar = title\n",
    "                sub_cat_ar_link = link[\"href\"]\n",
    "                \n",
    "                \n",
    "            else:\n",
    "                # category_ar\n",
    "                cat_ar_list.append(cat_ar.strip())\n",
    "                cat_ar_links.append(cat_ar_link)\n",
    "                \n",
    "                # Sub_category_ar\n",
    "                sub_cat_ar_list.append(sub_cat_ar.strip())\n",
    "                sub_cat_ar_links.append(sub_cat_ar_link)\n",
    "                \n",
    "                \n",
    "                # Sub_sub_category_ar\n",
    "                sub_sub_cat_ar_list.append(title.strip())                \n",
    "                sub_sub_cat_ar_links.append(link[\"href\"])\n",
    "       \n",
    "    \n",
    "    \n",
    "# ========================= Find English Data   ========================= #      \n",
    "for cat in categories_en:    \n",
    "    category_en = cat.find(\"a\", {'class':'level-top'}) \n",
    "    \n",
    "    ## ==== Don't Have Sub_sub_cat ==== ##\n",
    "    if category_en.text.strip() in [\"Mobiles\", \"Tablets\"]:\n",
    "        cat_en = category_en.text.strip()\n",
    "        cat_en_link = category_en[\"href\"]\n",
    "        \n",
    "        sub_cats = cat.find(\"div\", {'class':'level0 submenu'})\n",
    "        \n",
    "        for sub_cat in sub_cats.find_all(\"li\", {'class':'ui-menu-item level1'}):            \n",
    "            \n",
    "            sub_cat_en = sub_cat.text.replace(\"Hot!\", \"\").replace(\"New\", \"\").replace(\"Sale\", \"\")\n",
    "            sub_cat_en_link = sub_cat.find(\"a\")[\"href\"]\n",
    "            \n",
    "            # category_en\n",
    "            cat_en_list.append(cat_en.strip())\n",
    "            cat_en_links.append(cat_en_link)\n",
    "\n",
    "            # Sub_category_en\n",
    "            sub_cat_en_list.append(sub_cat_en.strip())\n",
    "            sub_cat_en_links.append(sub_cat_en_link)\n",
    "\n",
    "\n",
    "            # Sub_sub_category_en\n",
    "            sub_sub_cat_en_list.append(np.nan)                \n",
    "            sub_sub_cat_en_links.append(np.nan)\n",
    "    \n",
    "    \n",
    "    ## ==== Have Sub_sub_cat ==== ##\n",
    "    else:\n",
    "        for link in cat.find_all('a', title=True):\n",
    "            title = link['title'].strip()\n",
    "                        \n",
    "            if title == cat.find(\"a\", {'class':'level-top'}).text:\n",
    "                cat_en = title\n",
    "                cat_en_link = link[\"href\"]\n",
    "            \n",
    "            elif title.lower().replace(\" \", \"\") in ['laptop', 'monitors', 'printer', 'computeraccessories', 'storage', 'desktop', 'mobileaccessories', 'audio', 'wearables', 'caraccessories', 'securitycameras', 'photographyaccessories', 'network', 'scales', 'battery', 'digitalcameras', 'scooter', 'smallhomeappliances', 'electricalproducts', 'playstation', 'gamingaccessories', 'gamepad', 'gamescd']:\n",
    "                sub_cat_en = title\n",
    "                sub_cat_en_link = link[\"href\"]\n",
    "                \n",
    "                \n",
    "            else:\n",
    "                # category_en\n",
    "                cat_en_list.append(cat_en.strip())\n",
    "                cat_en_links.append(cat_en_link)\n",
    "                \n",
    "                # Sub_category_en\n",
    "                sub_cat_en_list.append(sub_cat_en.strip())\n",
    "                sub_cat_en_links.append(sub_cat_en_link)\n",
    "                \n",
    "                \n",
    "                # Sub_sub_category_en\n",
    "                sub_sub_cat_en_list.append(title.strip())                \n",
    "                sub_sub_cat_en_links.append(link[\"href\"])\n",
    " \n",
    "\n",
    "\n",
    "# ========================= Exporing data ========================= #   \n",
    "\n",
    "cats = pd.DataFrame({\"cat_ar\" : cat_ar_list, \"cat_en\" : cat_en_list, \"sub_cat_ar\" : sub_cat_ar_list, \"sub_cat_en\" : sub_cat_en_list, \"sub_sub_cat_ar\" : sub_sub_cat_ar_list, \"sub_sub_cat_en\" : sub_sub_cat_en_list, \"cat_ar_link\" : cat_ar_links, \"cat_en_link\" : cat_en_links, \"sub_cat_ar_link\" : sub_cat_ar_links, \"sub_cat_en_link\" : sub_cat_en_links, \"sub_sub_cat_ar_link\" : sub_sub_cat_ar_links, \"sub_sub_cat_en_link\" : sub_sub_cat_en_links})\n",
    "\n",
    "#Made them as comments for safity purposes\n",
    "#cats.to_excel(r\"D:\\Dream2000 New\\{}\".format(\"categories New.xlsx\"), index=False)\n",
    "#pd.io.formats.excel.ExcelFormatter.header_style = None\n",
    "#cats.to_excel(r\"D:\\Dream2000 New\\{}\".format(\"categories New.xlsx\"), index=False)"
   ]
  },
  {
   "cell_type": "markdown",
   "id": "3eded65c",
   "metadata": {},
   "source": [
    "#  =================== Gathering Products Links  ==================="
   ]
  },
  {
   "cell_type": "code",
   "execution_count": null,
   "id": "af9fbf41",
   "metadata": {},
   "outputs": [],
   "source": [
    "categories_df = pd.read_excel(r\"D:\\Dream2000 New\\{}\".format(\"categories New.xlsx\"))"
   ]
  },
  {
   "cell_type": "code",
   "execution_count": null,
   "id": "aecc93ea",
   "metadata": {},
   "outputs": [],
   "source": [
    "soup.find(\"a\", {\"class\":\"action next\"})[\"href\"]"
   ]
  },
  {
   "cell_type": "code",
   "execution_count": null,
   "id": "ba1e54ca",
   "metadata": {},
   "outputs": [],
   "source": [
    "link = sub_sub_cat_ar_link\n",
    "driver.get(link + \"?product_list_limit=100\")\n",
    "data = driver.page_source\n",
    "soup = BeautifulSoup(data, 'html.parser')\n",
    "products = soup.find_all(\"div\", {'class':'product photo product-item-photo'})\n",
    "\n",
    "\n",
    "def get_data(sub_sub_cat_ar_link):\n",
    "    \n",
    "    if pd.notnull(sub_sub_cat_ar_link): \n",
    "        filter_by = sub_sub_cat_ar_link\n",
    "\n",
    "\n",
    "    else:\n",
    "        filter_by = sub_cat_ar_link\n",
    "        \n",
    "    for product in products:\n",
    "        product_cat_list.append(list(categories_df[categories_df[filter_by] == link][\"cat_ar\"])[0])\n",
    "        product_sub_cat_list.append(list(categories_df[categories_df[filter_by] == link][\"sub_cat_ar\"])[0]) \n",
    "        product_sub_sub_cat_list.append(list(categories_df[categories_df[filter_by] == link][\"sub_sub_cat_ar\"])[0])\n",
    "        products_links.append(product.find(\"a\")[\"href\"])\n",
    "        main_img_links.append(product.find(\"img\")[\"src\"])"
   ]
  },
  {
   "cell_type": "code",
   "execution_count": null,
   "id": "87e41549",
   "metadata": {},
   "outputs": [],
   "source": [
    "categories_df.iloc[39, :]\n",
    "\n",
    "                    ### ======================= Gathering Product links ======================= ###\n",
    "\n",
    "def get_data(sub_sub_cat_ar_link):\n",
    "    \n",
    "    if pd.notnull(sub_sub_cat_ar_link): \n",
    "        print(list(categories_df[categories_df[\"sub_sub_cat_ar_link\"] == sub_sub_cat_ar_link][\"cat_ar\"])[0], \":\",list(categories_df[categories_df[\"sub_sub_cat_ar_link\"] == sub_sub_cat_ar_link][\"sub_cat_ar\"])[0], \":\",list(categories_df[categories_df[\"sub_sub_cat_ar_link\"] == sub_sub_cat_ar_link][\"sub_sub_cat_ar\"])[0])\n",
    "        try:\n",
    "            link = sub_sub_cat_ar_link.replace(f\"?p={page}&product_list_limit=100\", \"\")\n",
    "        except:\n",
    "            link = sub_sub_cat_ar_link\n",
    "            \n",
    "        driver.get(link + \"?product_list_limit=100\")\n",
    "        data = driver.page_source\n",
    "        soup = BeautifulSoup(data, 'html.parser')\n",
    "\n",
    "        products = soup.find_all(\"div\", {'class':'product photo product-item-photo'})\n",
    "\n",
    "        for product in products:\n",
    "            product_cat_list.append(list(categories_df[categories_df[\"sub_sub_cat_ar_link\"] == link][\"cat_ar\"])[0])\n",
    "            product_sub_cat_list.append(list(categories_df[categories_df[\"sub_sub_cat_ar_link\"] == link][\"sub_cat_ar\"])[0]) \n",
    "            product_sub_sub_cat_list.append(list(categories_df[categories_df[\"sub_sub_cat_ar_link\"] == link][\"sub_sub_cat_ar\"])[0])\n",
    "            products_links.append(product.find(\"a\")[\"href\"])\n",
    "            main_img_links.append(product.find(\"img\")[\"src\"])\n",
    "    else:        \n",
    "        print(\"2\", list(categories_df[categories_df[\"sub_cat_ar_link\"] == sub_cat_ar_link][\"cat_ar\"])[0], \":\",list(categories_df[categories_df[\"sub_cat_ar_link\"] == sub_cat_ar_link][\"sub_cat_ar\"])[0])\n",
    "        link = sub_cat_ar_link\n",
    "        \n",
    "        driver.get(link + \"?product_list_limit=100\")\n",
    "        data = driver.page_source\n",
    "        soup = BeautifulSoup(data, 'html.parser')\n",
    "        \n",
    "        products = soup.find_all(\"div\", {'class':'product photo product-item-photo'})\n",
    "\n",
    "        for product in products:\n",
    "            product_cat_list.append(list(categories_df[categories_df[\"sub_cat_ar_link\"] == link][\"cat_ar\"])[0])\n",
    "            product_sub_cat_list.append(list(categories_df[categories_df[\"sub_cat_ar_link\"] == link][\"sub_cat_ar\"])[0]) \n",
    "            product_sub_sub_cat_list.append(np.nan)\n",
    "            products_links.append(product.find(\"a\")[\"href\"])\n",
    "            main_img_links.append(product.find(\"img\")[\"src\"])    \n",
    "    \n",
    "    return soup\n",
    "    \n",
    "    \n",
    "product_cat_list, product_sub_cat_list, product_sub_sub_cat_list, products_links, main_img_links = [],[],[],[],[]\n",
    "\n",
    "\n",
    "for sub_sub_cat_ar_link in [\"https://dream2000.com/accessories/mobile-accessories/cables.html\"]:\n",
    "    options = EdgeOptions()\n",
    "    ua = UserAgent()\n",
    "    options.add_argument(f\"user-agent={ua.random}\")\n",
    "    options.add_argument('--headless')\n",
    "    options.add_experimental_option('w3c', False)\n",
    "\n",
    "    # Create the Edge WebDriver instance\n",
    "    driver = webdriver.Edge(executable_path=r\"C:\\Users\\Content Designer\\Downloads\\msedgedriver.exe\")\n",
    "\n",
    "    # Call get_data once\n",
    "    soup = get_data(sub_sub_cat_ar_link)\n",
    "    \n",
    "    \n",
    "    has_next_page = True\n",
    "    page= 2\n",
    "    while has_next_page: \n",
    "        try:\n",
    "            second_sub_sub_cat_ar_link = sub_sub_cat_ar_link + f\"?p={page}&product_list_limit=100\"\n",
    "            print(second_sub_sub_cat_ar_link)\n",
    "            get_data(second_sub_sub_cat_ar_link)\n",
    "            print(sub_sub_cat_ar_link)\n",
    "            page += 1\n",
    "        except Exception as e:\n",
    "            print(e)\n",
    "            has_next_page = False\n",
    "\n",
    "    #driver.quit()\n",
    "    print(\"-----------\")\n",
    "\n",
    "products_df = pd.DataFrame({\"product_cat\": product_cat_list, \"product_sub_cat\": product_sub_cat_list, \"product_sub_sub_cat\": product_sub_sub_cat_list,\"product_link\": products_links, \"main_img_link\": main_img_links})\n",
    "#products_df.to_excel(r\"D:\\Dream2000 New\\{}\".format(\"products sheet no touch please.xlsx\"), index=False)"
   ]
  },
  {
   "cell_type": "code",
   "execution_count": null,
   "id": "0546b0d5",
   "metadata": {},
   "outputs": [],
   "source": [
    "products_df"
   ]
  },
  {
   "cell_type": "code",
   "execution_count": null,
   "id": "69e1b84c",
   "metadata": {},
   "outputs": [],
   "source": [
    "                    ### ======================= Gathering Product links ======================= ###\n",
    "\n",
    "def get_data(sub_sub_cat_ar_link):\n",
    "    \n",
    "    if pd.notnull(sub_sub_cat_ar_link): \n",
    "        print(list(categories_df[categories_df[\"sub_sub_cat_ar_link\"] == sub_sub_cat_ar_link][\"cat_ar\"])[0], \":\",list(categories_df[categories_df[\"sub_sub_cat_ar_link\"] == sub_sub_cat_ar_link][\"sub_cat_ar\"])[0], \":\",list(categories_df[categories_df[\"sub_sub_cat_ar_link\"] == sub_sub_cat_ar_link][\"sub_sub_cat_ar\"])[0])\n",
    "        link = sub_sub_cat_ar_link\n",
    "        products = soup.find_all(\"div\", {'class':'product photo product-item-photo'})\n",
    "\n",
    "        for product in products:\n",
    "            product_cat_list.append(list(categories_df[categories_df[\"sub_sub_cat_ar_link\"] == link][\"cat_ar\"])[0])\n",
    "            product_sub_cat_list.append(list(categories_df[categories_df[\"sub_sub_cat_ar_link\"] == link][\"sub_cat_ar\"])[0]) \n",
    "            product_sub_sub_cat_list.append(list(categories_df[categories_df[\"sub_sub_cat_ar_link\"] == link][\"sub_sub_cat_ar\"])[0])\n",
    "            products_links.append(product.find(\"a\")[\"href\"])\n",
    "            main_img_links.append(product.find(\"img\")[\"src\"])\n",
    "    else:        \n",
    "        print(\"2\", list(categories_df[categories_df[\"sub_cat_ar_link\"] == sub_cat_ar_link][\"cat_ar\"])[0], \":\",list(categories_df[categories_df[\"sub_cat_ar_link\"] == sub_cat_ar_link][\"sub_cat_ar\"])[0])\n",
    "        link = sub_cat_ar_link\n",
    "        products = soup.find_all(\"div\", {'class':'product photo product-item-photo'})\n",
    "\n",
    "        for product in products:\n",
    "            product_cat_list.append(list(categories_df[categories_df[\"sub_cat_ar_link\"] == link][\"cat_ar\"])[0])\n",
    "            product_sub_cat_list.append(list(categories_df[categories_df[\"sub_cat_ar_link\"] == link][\"sub_cat_ar\"])[0]) \n",
    "            product_sub_sub_cat_list.append(np.nan)\n",
    "            products_links.append(product.find(\"a\")[\"href\"])\n",
    "            main_img_links.append(product.find(\"img\")[\"src\"])    \n",
    "    \n",
    "    return soup\n",
    "    \n",
    "    \n",
    "product_cat_list, product_sub_cat_list, product_sub_sub_cat_list, products_links, main_img_links = [],[],[],[],[]\n",
    "\n",
    "\n",
    "for sub_sub_cat_ar_link in categories_df[\"sub_sub_cat_ar_link\"]:\n",
    "    options = EdgeOptions()\n",
    "    ua = UserAgent()\n",
    "    options.add_argument(f\"user-agent={ua.random}\")\n",
    "    options.add_argument('--headless')\n",
    "    options.add_experimental_option('w3c', False)\n",
    "\n",
    "    # Create the Edge WebDriver instance\n",
    "    driver = Edge(executable_path=r\"C:\\Users\\Content Designer\\Downloads\\msedgedriver.exe\")\n",
    "        \n",
    "    driver.get(link + \"?product_list_limit=100\")\n",
    "    data = driver.page_source\n",
    "    soup = BeautifulSoup(data, 'html.parser')\n",
    "    \n",
    "    get_data(sub_sub_cat_ar_link)\n",
    "    \n",
    "    page_class = soup.find(\"a\", {'class': 'action  next'})\n",
    "    while page_class:\n",
    "        next_page_link = page_class[\"href\"]\n",
    "        driver.get(next_page_link + \"?product_list_limit=100\")\n",
    "        data = driver.page_source\n",
    "        soup = BeautifulSoup(data, 'html.parser')\n",
    "\n",
    "        get_data(sub_sub_cat_ar_link)\n",
    "        page_class = soup.find(\"a\", {'class': 'action  next'})\n",
    "         \n",
    "\n",
    "    driver.quit()\n",
    "    print(\"-----------\")\n",
    "\n",
    "products_df = pd.DataFrame({\"product_cat\": product_cat_list, \"product_sub_cat\": product_sub_cat_list, \"product_sub_sub_cat\": product_sub_sub_cat_list,\"product_link\": products_links, \"main_img_link\": main_img_links})\n",
    "products_df.to_excel(r\"D:\\Dream2000 New\\{}\".format(\"products sheet no touch please.xlsx\"), index=False)"
   ]
  },
  {
   "cell_type": "code",
   "execution_count": null,
   "id": "ea90daf5",
   "metadata": {},
   "outputs": [],
   "source": [
    "                    ### ======================= Gathering Product links ======================= ###\n",
    "\n",
    "product_cat_list, product_sub_cat_list, product_sub_sub_cat_list, products_links, main_img_links = [],[],[],[],[]\n",
    "\n",
    "\n",
    "for sub_sub_cat_ar_link, sub_cat_ar_link in zip(categories_df[\"sub_sub_cat_ar_link\"],  categories_df[\"sub_cat_ar_link\"]):\n",
    "    options = EdgeOptions()\n",
    "    ua = UserAgent()\n",
    "    options.add_argument(f\"user-agent={ua.random}\")\n",
    "    options.add_argument('--headless')\n",
    "    options.add_experimental_option('w3c', False)\n",
    "\n",
    "    # Create the Edge WebDriver instance\n",
    "    driver = Edge(executable_path=r\"C:\\Users\\Content Designer\\Downloads\\msedgedriver.exe\")\n",
    "\n",
    "    if pd.notnull(sub_sub_cat_ar_link): \n",
    "        print(list(categories_df[categories_df[\"sub_sub_cat_ar_link\"] == sub_sub_cat_ar_link][\"cat_ar\"])[0], \":\",list(categories_df[categories_df[\"sub_sub_cat_ar_link\"] == sub_sub_cat_ar_link][\"sub_cat_ar\"])[0], \":\",list(categories_df[categories_df[\"sub_sub_cat_ar_link\"] == sub_sub_cat_ar_link][\"sub_sub_cat_ar\"])[0])\n",
    "        link = sub_sub_cat_ar_link\n",
    "        \n",
    "        \n",
    "        driver.get(link + \"?product_list_limit=100\")\n",
    "        data = driver.page_source\n",
    "        soup = BeautifulSoup(data, 'html.parser')\n",
    "\n",
    "\n",
    "        products = soup.find_all(\"div\", {'class':'product photo product-item-photo'})\n",
    "        \n",
    "        for product in products:\n",
    "            product_cat_list.append(list(categories_df[categories_df[\"sub_sub_cat_ar_link\"] == link][\"cat_ar\"])[0])\n",
    "            product_sub_cat_list.append(list(categories_df[categories_df[\"sub_sub_cat_ar_link\"] == link][\"sub_cat_ar\"])[0]) \n",
    "            product_sub_sub_cat_list.append(list(categories_df[categories_df[\"sub_sub_cat_ar_link\"] == link][\"sub_sub_cat_ar\"])[0])\n",
    "            products_links.append(product.find(\"a\")[\"href\"])\n",
    "            main_img_links.append(product.find(\"img\")[\"src\"])\n",
    "    else:        \n",
    "        print(\"2\", list(categories_df[categories_df[\"sub_cat_ar_link\"] == sub_cat_ar_link][\"cat_ar\"])[0], \":\",list(categories_df[categories_df[\"sub_cat_ar_link\"] == sub_cat_ar_link][\"sub_cat_ar\"])[0])\n",
    "        link = sub_cat_ar_link\n",
    "\n",
    "        driver.get(link + \"?product_list_limit=100\")\n",
    "        data = driver.page_source\n",
    "        soup = BeautifulSoup(data, 'html.parser')\n",
    "\n",
    "\n",
    "        products = soup.find_all(\"div\", {'class':'product photo product-item-photo'})\n",
    "        \n",
    "        for product in products:\n",
    "            product_cat_list.append(list(categories_df[categories_df[\"sub_cat_ar_link\"] == link][\"cat_ar\"])[0])\n",
    "            product_sub_cat_list.append(list(categories_df[categories_df[\"sub_cat_ar_link\"] == link][\"sub_cat_ar\"])[0]) \n",
    "            product_sub_sub_cat_list.append(np.nan)\n",
    "            products_links.append(product.find(\"a\")[\"href\"])\n",
    "            main_img_links.append(product.find(\"img\")[\"src\"])\n",
    "         \n",
    "\n",
    "    driver.quit()\n",
    "    print(\"-----------\")\n",
    "\n",
    "products_df = pd.DataFrame({\"product_cat\": product_cat_list, \"product_sub_cat\": product_sub_cat_list, \"product_sub_sub_cat\": product_sub_sub_cat_list,\"product_link\": products_links, \"main_img_link\": main_img_links})\n",
    "products_df.to_excel(r\"D:\\Dream2000 New\\{}\".format(\"products sheet no touch please.xlsx\"), index=False)"
   ]
  },
  {
   "cell_type": "markdown",
   "id": "2709c958",
   "metadata": {},
   "source": [
    "# =================== Gathering Products Info  ==================="
   ]
  },
  {
   "cell_type": "code",
   "execution_count": 2,
   "id": "2b85df37",
   "metadata": {},
   "outputs": [],
   "source": [
    "products_df = pd.read_excel(r\"D:\\Dream2000 New\\{}\".format(\"products sheet no touch please.xlsx\"))"
   ]
  },
  {
   "cell_type": "code",
   "execution_count": 3,
   "id": "6f34c134",
   "metadata": {},
   "outputs": [
    {
     "name": "stderr",
     "output_type": "stream",
     "text": [
      "C:\\Users\\Content Designer\\AppData\\Local\\Temp\\ipykernel_23172\\802269280.py:85: DeprecationWarning: Selenium Tools for Microsoft Edge is deprecated. Please upgrade to Selenium 4 which has built-in support for Microsoft Edge (Chromium): https://docs.microsoft.com/en-us/microsoft-edge/webdriver-chromium/#upgrading-from-selenium-3\n",
      "  driver = Edge(executable_path=r\"C:\\Users\\Content Designer\\Downloads\\msedgedriver.exe\")\n"
     ]
    },
    {
     "name": "stdout",
     "output_type": "stream",
     "text": [
      "0\n"
     ]
    },
    {
     "name": "stderr",
     "output_type": "stream",
     "text": [
      "C:\\Users\\Content Designer\\AppData\\Local\\Temp\\ipykernel_23172\\802269280.py:85: DeprecationWarning: Selenium Tools for Microsoft Edge is deprecated. Please upgrade to Selenium 4 which has built-in support for Microsoft Edge (Chromium): https://docs.microsoft.com/en-us/microsoft-edge/webdriver-chromium/#upgrading-from-selenium-3\n",
      "  driver = Edge(executable_path=r\"C:\\Users\\Content Designer\\Downloads\\msedgedriver.exe\")\n"
     ]
    },
    {
     "name": "stdout",
     "output_type": "stream",
     "text": [
      "10\n"
     ]
    },
    {
     "name": "stderr",
     "output_type": "stream",
     "text": [
      "C:\\Users\\Content Designer\\AppData\\Local\\Temp\\ipykernel_23172\\802269280.py:85: DeprecationWarning: Selenium Tools for Microsoft Edge is deprecated. Please upgrade to Selenium 4 which has built-in support for Microsoft Edge (Chromium): https://docs.microsoft.com/en-us/microsoft-edge/webdriver-chromium/#upgrading-from-selenium-3\n",
      "  driver = Edge(executable_path=r\"C:\\Users\\Content Designer\\Downloads\\msedgedriver.exe\")\n"
     ]
    },
    {
     "name": "stdout",
     "output_type": "stream",
     "text": [
      "20\n"
     ]
    },
    {
     "name": "stderr",
     "output_type": "stream",
     "text": [
      "C:\\Users\\Content Designer\\AppData\\Local\\Temp\\ipykernel_23172\\802269280.py:85: DeprecationWarning: Selenium Tools for Microsoft Edge is deprecated. Please upgrade to Selenium 4 which has built-in support for Microsoft Edge (Chromium): https://docs.microsoft.com/en-us/microsoft-edge/webdriver-chromium/#upgrading-from-selenium-3\n",
      "  driver = Edge(executable_path=r\"C:\\Users\\Content Designer\\Downloads\\msedgedriver.exe\")\n"
     ]
    },
    {
     "name": "stdout",
     "output_type": "stream",
     "text": [
      "30\n"
     ]
    },
    {
     "name": "stderr",
     "output_type": "stream",
     "text": [
      "C:\\Users\\Content Designer\\AppData\\Local\\Temp\\ipykernel_23172\\802269280.py:85: DeprecationWarning: Selenium Tools for Microsoft Edge is deprecated. Please upgrade to Selenium 4 which has built-in support for Microsoft Edge (Chromium): https://docs.microsoft.com/en-us/microsoft-edge/webdriver-chromium/#upgrading-from-selenium-3\n",
      "  driver = Edge(executable_path=r\"C:\\Users\\Content Designer\\Downloads\\msedgedriver.exe\")\n"
     ]
    },
    {
     "name": "stdout",
     "output_type": "stream",
     "text": [
      "40\n"
     ]
    },
    {
     "name": "stderr",
     "output_type": "stream",
     "text": [
      "C:\\Users\\Content Designer\\AppData\\Local\\Temp\\ipykernel_23172\\802269280.py:85: DeprecationWarning: Selenium Tools for Microsoft Edge is deprecated. Please upgrade to Selenium 4 which has built-in support for Microsoft Edge (Chromium): https://docs.microsoft.com/en-us/microsoft-edge/webdriver-chromium/#upgrading-from-selenium-3\n",
      "  driver = Edge(executable_path=r\"C:\\Users\\Content Designer\\Downloads\\msedgedriver.exe\")\n"
     ]
    },
    {
     "name": "stdout",
     "output_type": "stream",
     "text": [
      "50\n"
     ]
    },
    {
     "name": "stderr",
     "output_type": "stream",
     "text": [
      "C:\\Users\\Content Designer\\AppData\\Local\\Temp\\ipykernel_23172\\802269280.py:85: DeprecationWarning: Selenium Tools for Microsoft Edge is deprecated. Please upgrade to Selenium 4 which has built-in support for Microsoft Edge (Chromium): https://docs.microsoft.com/en-us/microsoft-edge/webdriver-chromium/#upgrading-from-selenium-3\n",
      "  driver = Edge(executable_path=r\"C:\\Users\\Content Designer\\Downloads\\msedgedriver.exe\")\n"
     ]
    },
    {
     "name": "stdout",
     "output_type": "stream",
     "text": [
      "https://dream2000.com/samsung-m33-8gb-ram-128gb-sm-m336b-ds-brown.html\n",
      "Message: timeout: Timed out receiving message from renderer: 297.125\n",
      "  (Session info: MicrosoftEdge=117.0.2045.31)\n",
      "\n",
      "60\n"
     ]
    },
    {
     "name": "stderr",
     "output_type": "stream",
     "text": [
      "C:\\Users\\Content Designer\\AppData\\Local\\Temp\\ipykernel_23172\\802269280.py:85: DeprecationWarning: Selenium Tools for Microsoft Edge is deprecated. Please upgrade to Selenium 4 which has built-in support for Microsoft Edge (Chromium): https://docs.microsoft.com/en-us/microsoft-edge/webdriver-chromium/#upgrading-from-selenium-3\n",
      "  driver = Edge(executable_path=r\"C:\\Users\\Content Designer\\Downloads\\msedgedriver.exe\")\n"
     ]
    },
    {
     "name": "stdout",
     "output_type": "stream",
     "text": [
      "70\n"
     ]
    },
    {
     "name": "stderr",
     "output_type": "stream",
     "text": [
      "C:\\Users\\Content Designer\\AppData\\Local\\Temp\\ipykernel_23172\\802269280.py:85: DeprecationWarning: Selenium Tools for Microsoft Edge is deprecated. Please upgrade to Selenium 4 which has built-in support for Microsoft Edge (Chromium): https://docs.microsoft.com/en-us/microsoft-edge/webdriver-chromium/#upgrading-from-selenium-3\n",
      "  driver = Edge(executable_path=r\"C:\\Users\\Content Designer\\Downloads\\msedgedriver.exe\")\n"
     ]
    },
    {
     "name": "stdout",
     "output_type": "stream",
     "text": [
      "80\n"
     ]
    },
    {
     "name": "stderr",
     "output_type": "stream",
     "text": [
      "C:\\Users\\Content Designer\\AppData\\Local\\Temp\\ipykernel_23172\\802269280.py:85: DeprecationWarning: Selenium Tools for Microsoft Edge is deprecated. Please upgrade to Selenium 4 which has built-in support for Microsoft Edge (Chromium): https://docs.microsoft.com/en-us/microsoft-edge/webdriver-chromium/#upgrading-from-selenium-3\n",
      "  driver = Edge(executable_path=r\"C:\\Users\\Content Designer\\Downloads\\msedgedriver.exe\")\n"
     ]
    },
    {
     "name": "stdout",
     "output_type": "stream",
     "text": [
      "90\n"
     ]
    },
    {
     "name": "stderr",
     "output_type": "stream",
     "text": [
      "C:\\Users\\Content Designer\\AppData\\Local\\Temp\\ipykernel_23172\\802269280.py:85: DeprecationWarning: Selenium Tools for Microsoft Edge is deprecated. Please upgrade to Selenium 4 which has built-in support for Microsoft Edge (Chromium): https://docs.microsoft.com/en-us/microsoft-edge/webdriver-chromium/#upgrading-from-selenium-3\n",
      "  driver = Edge(executable_path=r\"C:\\Users\\Content Designer\\Downloads\\msedgedriver.exe\")\n"
     ]
    },
    {
     "name": "stdout",
     "output_type": "stream",
     "text": [
      "100\n"
     ]
    },
    {
     "name": "stderr",
     "output_type": "stream",
     "text": [
      "C:\\Users\\Content Designer\\AppData\\Local\\Temp\\ipykernel_23172\\802269280.py:85: DeprecationWarning: Selenium Tools for Microsoft Edge is deprecated. Please upgrade to Selenium 4 which has built-in support for Microsoft Edge (Chromium): https://docs.microsoft.com/en-us/microsoft-edge/webdriver-chromium/#upgrading-from-selenium-3\n",
      "  driver = Edge(executable_path=r\"C:\\Users\\Content Designer\\Downloads\\msedgedriver.exe\")\n"
     ]
    },
    {
     "name": "stdout",
     "output_type": "stream",
     "text": [
      "110\n"
     ]
    },
    {
     "name": "stderr",
     "output_type": "stream",
     "text": [
      "C:\\Users\\Content Designer\\AppData\\Local\\Temp\\ipykernel_23172\\802269280.py:85: DeprecationWarning: Selenium Tools for Microsoft Edge is deprecated. Please upgrade to Selenium 4 which has built-in support for Microsoft Edge (Chromium): https://docs.microsoft.com/en-us/microsoft-edge/webdriver-chromium/#upgrading-from-selenium-3\n",
      "  driver = Edge(executable_path=r\"C:\\Users\\Content Designer\\Downloads\\msedgedriver.exe\")\n"
     ]
    },
    {
     "name": "stdout",
     "output_type": "stream",
     "text": [
      "120\n"
     ]
    },
    {
     "name": "stderr",
     "output_type": "stream",
     "text": [
      "C:\\Users\\Content Designer\\AppData\\Local\\Temp\\ipykernel_23172\\802269280.py:85: DeprecationWarning: Selenium Tools for Microsoft Edge is deprecated. Please upgrade to Selenium 4 which has built-in support for Microsoft Edge (Chromium): https://docs.microsoft.com/en-us/microsoft-edge/webdriver-chromium/#upgrading-from-selenium-3\n",
      "  driver = Edge(executable_path=r\"C:\\Users\\Content Designer\\Downloads\\msedgedriver.exe\")\n"
     ]
    },
    {
     "name": "stdout",
     "output_type": "stream",
     "text": [
      "https://dream2000.com/redmi-12-8gb-ram-256gb-sky-blue.html\n",
      "Message: session not created\n",
      "from no such execution context: uniqueContextId not found\n",
      "  (Session info: MicrosoftEdge=117.0.2045.31)\n",
      "\n",
      "140\n"
     ]
    },
    {
     "name": "stderr",
     "output_type": "stream",
     "text": [
      "C:\\Users\\Content Designer\\AppData\\Local\\Temp\\ipykernel_23172\\802269280.py:85: DeprecationWarning: Selenium Tools for Microsoft Edge is deprecated. Please upgrade to Selenium 4 which has built-in support for Microsoft Edge (Chromium): https://docs.microsoft.com/en-us/microsoft-edge/webdriver-chromium/#upgrading-from-selenium-3\n",
      "  driver = Edge(executable_path=r\"C:\\Users\\Content Designer\\Downloads\\msedgedriver.exe\")\n"
     ]
    },
    {
     "name": "stdout",
     "output_type": "stream",
     "text": [
      "150\n"
     ]
    },
    {
     "name": "stderr",
     "output_type": "stream",
     "text": [
      "C:\\Users\\Content Designer\\AppData\\Local\\Temp\\ipykernel_23172\\802269280.py:85: DeprecationWarning: Selenium Tools for Microsoft Edge is deprecated. Please upgrade to Selenium 4 which has built-in support for Microsoft Edge (Chromium): https://docs.microsoft.com/en-us/microsoft-edge/webdriver-chromium/#upgrading-from-selenium-3\n",
      "  driver = Edge(executable_path=r\"C:\\Users\\Content Designer\\Downloads\\msedgedriver.exe\")\n"
     ]
    },
    {
     "name": "stdout",
     "output_type": "stream",
     "text": [
      "160\n"
     ]
    },
    {
     "name": "stderr",
     "output_type": "stream",
     "text": [
      "C:\\Users\\Content Designer\\AppData\\Local\\Temp\\ipykernel_23172\\802269280.py:85: DeprecationWarning: Selenium Tools for Microsoft Edge is deprecated. Please upgrade to Selenium 4 which has built-in support for Microsoft Edge (Chromium): https://docs.microsoft.com/en-us/microsoft-edge/webdriver-chromium/#upgrading-from-selenium-3\n",
      "  driver = Edge(executable_path=r\"C:\\Users\\Content Designer\\Downloads\\msedgedriver.exe\")\n"
     ]
    },
    {
     "name": "stdout",
     "output_type": "stream",
     "text": [
      "170\n"
     ]
    },
    {
     "name": "stderr",
     "output_type": "stream",
     "text": [
      "C:\\Users\\Content Designer\\AppData\\Local\\Temp\\ipykernel_23172\\802269280.py:85: DeprecationWarning: Selenium Tools for Microsoft Edge is deprecated. Please upgrade to Selenium 4 which has built-in support for Microsoft Edge (Chromium): https://docs.microsoft.com/en-us/microsoft-edge/webdriver-chromium/#upgrading-from-selenium-3\n",
      "  driver = Edge(executable_path=r\"C:\\Users\\Content Designer\\Downloads\\msedgedriver.exe\")\n"
     ]
    },
    {
     "name": "stdout",
     "output_type": "stream",
     "text": [
      "180\n"
     ]
    },
    {
     "name": "stderr",
     "output_type": "stream",
     "text": [
      "C:\\Users\\Content Designer\\AppData\\Local\\Temp\\ipykernel_23172\\802269280.py:85: DeprecationWarning: Selenium Tools for Microsoft Edge is deprecated. Please upgrade to Selenium 4 which has built-in support for Microsoft Edge (Chromium): https://docs.microsoft.com/en-us/microsoft-edge/webdriver-chromium/#upgrading-from-selenium-3\n",
      "  driver = Edge(executable_path=r\"C:\\Users\\Content Designer\\Downloads\\msedgedriver.exe\")\n"
     ]
    },
    {
     "name": "stdout",
     "output_type": "stream",
     "text": [
      "190\n"
     ]
    },
    {
     "name": "stderr",
     "output_type": "stream",
     "text": [
      "C:\\Users\\Content Designer\\AppData\\Local\\Temp\\ipykernel_23172\\802269280.py:85: DeprecationWarning: Selenium Tools for Microsoft Edge is deprecated. Please upgrade to Selenium 4 which has built-in support for Microsoft Edge (Chromium): https://docs.microsoft.com/en-us/microsoft-edge/webdriver-chromium/#upgrading-from-selenium-3\n",
      "  driver = Edge(executable_path=r\"C:\\Users\\Content Designer\\Downloads\\msedgedriver.exe\")\n"
     ]
    },
    {
     "name": "stdout",
     "output_type": "stream",
     "text": [
      "200\n"
     ]
    },
    {
     "name": "stderr",
     "output_type": "stream",
     "text": [
      "C:\\Users\\Content Designer\\AppData\\Local\\Temp\\ipykernel_23172\\802269280.py:85: DeprecationWarning: Selenium Tools for Microsoft Edge is deprecated. Please upgrade to Selenium 4 which has built-in support for Microsoft Edge (Chromium): https://docs.microsoft.com/en-us/microsoft-edge/webdriver-chromium/#upgrading-from-selenium-3\n",
      "  driver = Edge(executable_path=r\"C:\\Users\\Content Designer\\Downloads\\msedgedriver.exe\")\n"
     ]
    },
    {
     "name": "stdout",
     "output_type": "stream",
     "text": [
      "210\n"
     ]
    },
    {
     "name": "stderr",
     "output_type": "stream",
     "text": [
      "C:\\Users\\Content Designer\\AppData\\Local\\Temp\\ipykernel_23172\\802269280.py:85: DeprecationWarning: Selenium Tools for Microsoft Edge is deprecated. Please upgrade to Selenium 4 which has built-in support for Microsoft Edge (Chromium): https://docs.microsoft.com/en-us/microsoft-edge/webdriver-chromium/#upgrading-from-selenium-3\n",
      "  driver = Edge(executable_path=r\"C:\\Users\\Content Designer\\Downloads\\msedgedriver.exe\")\n"
     ]
    },
    {
     "name": "stdout",
     "output_type": "stream",
     "text": [
      "220\n"
     ]
    },
    {
     "name": "stderr",
     "output_type": "stream",
     "text": [
      "C:\\Users\\Content Designer\\AppData\\Local\\Temp\\ipykernel_23172\\802269280.py:85: DeprecationWarning: Selenium Tools for Microsoft Edge is deprecated. Please upgrade to Selenium 4 which has built-in support for Microsoft Edge (Chromium): https://docs.microsoft.com/en-us/microsoft-edge/webdriver-chromium/#upgrading-from-selenium-3\n",
      "  driver = Edge(executable_path=r\"C:\\Users\\Content Designer\\Downloads\\msedgedriver.exe\")\n"
     ]
    },
    {
     "name": "stdout",
     "output_type": "stream",
     "text": [
      "230\n"
     ]
    },
    {
     "name": "stderr",
     "output_type": "stream",
     "text": [
      "C:\\Users\\Content Designer\\AppData\\Local\\Temp\\ipykernel_23172\\802269280.py:85: DeprecationWarning: Selenium Tools for Microsoft Edge is deprecated. Please upgrade to Selenium 4 which has built-in support for Microsoft Edge (Chromium): https://docs.microsoft.com/en-us/microsoft-edge/webdriver-chromium/#upgrading-from-selenium-3\n",
      "  driver = Edge(executable_path=r\"C:\\Users\\Content Designer\\Downloads\\msedgedriver.exe\")\n"
     ]
    },
    {
     "name": "stdout",
     "output_type": "stream",
     "text": [
      "240\n"
     ]
    },
    {
     "name": "stderr",
     "output_type": "stream",
     "text": [
      "C:\\Users\\Content Designer\\AppData\\Local\\Temp\\ipykernel_23172\\802269280.py:85: DeprecationWarning: Selenium Tools for Microsoft Edge is deprecated. Please upgrade to Selenium 4 which has built-in support for Microsoft Edge (Chromium): https://docs.microsoft.com/en-us/microsoft-edge/webdriver-chromium/#upgrading-from-selenium-3\n",
      "  driver = Edge(executable_path=r\"C:\\Users\\Content Designer\\Downloads\\msedgedriver.exe\")\n"
     ]
    },
    {
     "name": "stdout",
     "output_type": "stream",
     "text": [
      "250\n"
     ]
    },
    {
     "name": "stderr",
     "output_type": "stream",
     "text": [
      "C:\\Users\\Content Designer\\AppData\\Local\\Temp\\ipykernel_23172\\802269280.py:85: DeprecationWarning: Selenium Tools for Microsoft Edge is deprecated. Please upgrade to Selenium 4 which has built-in support for Microsoft Edge (Chromium): https://docs.microsoft.com/en-us/microsoft-edge/webdriver-chromium/#upgrading-from-selenium-3\n",
      "  driver = Edge(executable_path=r\"C:\\Users\\Content Designer\\Downloads\\msedgedriver.exe\")\n"
     ]
    },
    {
     "name": "stdout",
     "output_type": "stream",
     "text": [
      "260\n"
     ]
    },
    {
     "name": "stderr",
     "output_type": "stream",
     "text": [
      "C:\\Users\\Content Designer\\AppData\\Local\\Temp\\ipykernel_23172\\802269280.py:85: DeprecationWarning: Selenium Tools for Microsoft Edge is deprecated. Please upgrade to Selenium 4 which has built-in support for Microsoft Edge (Chromium): https://docs.microsoft.com/en-us/microsoft-edge/webdriver-chromium/#upgrading-from-selenium-3\n",
      "  driver = Edge(executable_path=r\"C:\\Users\\Content Designer\\Downloads\\msedgedriver.exe\")\n"
     ]
    },
    {
     "name": "stdout",
     "output_type": "stream",
     "text": [
      "https://dream2000.com/lenovo-ideapad-1-15igl7-intel-pentium-n5030-82v70091ed-8gb-ram-256gb-ssd-uhd-graphics-15-6-inches-hd-abyss-blue.html\n",
      "Message: session not created\n",
      "from no such execution context: loader has changed while resolving nodes\n",
      "  (Session info: MicrosoftEdge=117.0.2045.31)\n",
      "\n",
      "270\n"
     ]
    },
    {
     "name": "stderr",
     "output_type": "stream",
     "text": [
      "C:\\Users\\Content Designer\\AppData\\Local\\Temp\\ipykernel_23172\\802269280.py:85: DeprecationWarning: Selenium Tools for Microsoft Edge is deprecated. Please upgrade to Selenium 4 which has built-in support for Microsoft Edge (Chromium): https://docs.microsoft.com/en-us/microsoft-edge/webdriver-chromium/#upgrading-from-selenium-3\n",
      "  driver = Edge(executable_path=r\"C:\\Users\\Content Designer\\Downloads\\msedgedriver.exe\")\n"
     ]
    },
    {
     "name": "stdout",
     "output_type": "stream",
     "text": [
      "280\n"
     ]
    },
    {
     "name": "stderr",
     "output_type": "stream",
     "text": [
      "C:\\Users\\Content Designer\\AppData\\Local\\Temp\\ipykernel_23172\\802269280.py:85: DeprecationWarning: Selenium Tools for Microsoft Edge is deprecated. Please upgrade to Selenium 4 which has built-in support for Microsoft Edge (Chromium): https://docs.microsoft.com/en-us/microsoft-edge/webdriver-chromium/#upgrading-from-selenium-3\n",
      "  driver = Edge(executable_path=r\"C:\\Users\\Content Designer\\Downloads\\msedgedriver.exe\")\n"
     ]
    },
    {
     "name": "stdout",
     "output_type": "stream",
     "text": [
      "290\n"
     ]
    },
    {
     "name": "stderr",
     "output_type": "stream",
     "text": [
      "C:\\Users\\Content Designer\\AppData\\Local\\Temp\\ipykernel_23172\\802269280.py:85: DeprecationWarning: Selenium Tools for Microsoft Edge is deprecated. Please upgrade to Selenium 4 which has built-in support for Microsoft Edge (Chromium): https://docs.microsoft.com/en-us/microsoft-edge/webdriver-chromium/#upgrading-from-selenium-3\n",
      "  driver = Edge(executable_path=r\"C:\\Users\\Content Designer\\Downloads\\msedgedriver.exe\")\n"
     ]
    },
    {
     "name": "stdout",
     "output_type": "stream",
     "text": [
      "300\n"
     ]
    },
    {
     "name": "stderr",
     "output_type": "stream",
     "text": [
      "C:\\Users\\Content Designer\\AppData\\Local\\Temp\\ipykernel_23172\\802269280.py:85: DeprecationWarning: Selenium Tools for Microsoft Edge is deprecated. Please upgrade to Selenium 4 which has built-in support for Microsoft Edge (Chromium): https://docs.microsoft.com/en-us/microsoft-edge/webdriver-chromium/#upgrading-from-selenium-3\n",
      "  driver = Edge(executable_path=r\"C:\\Users\\Content Designer\\Downloads\\msedgedriver.exe\")\n"
     ]
    },
    {
     "name": "stdout",
     "output_type": "stream",
     "text": [
      "310\n"
     ]
    },
    {
     "name": "stderr",
     "output_type": "stream",
     "text": [
      "C:\\Users\\Content Designer\\AppData\\Local\\Temp\\ipykernel_23172\\802269280.py:85: DeprecationWarning: Selenium Tools for Microsoft Edge is deprecated. Please upgrade to Selenium 4 which has built-in support for Microsoft Edge (Chromium): https://docs.microsoft.com/en-us/microsoft-edge/webdriver-chromium/#upgrading-from-selenium-3\n",
      "  driver = Edge(executable_path=r\"C:\\Users\\Content Designer\\Downloads\\msedgedriver.exe\")\n"
     ]
    },
    {
     "name": "stdout",
     "output_type": "stream",
     "text": [
      "320\n"
     ]
    },
    {
     "name": "stderr",
     "output_type": "stream",
     "text": [
      "C:\\Users\\Content Designer\\AppData\\Local\\Temp\\ipykernel_23172\\802269280.py:85: DeprecationWarning: Selenium Tools for Microsoft Edge is deprecated. Please upgrade to Selenium 4 which has built-in support for Microsoft Edge (Chromium): https://docs.microsoft.com/en-us/microsoft-edge/webdriver-chromium/#upgrading-from-selenium-3\n",
      "  driver = Edge(executable_path=r\"C:\\Users\\Content Designer\\Downloads\\msedgedriver.exe\")\n"
     ]
    },
    {
     "name": "stdout",
     "output_type": "stream",
     "text": [
      "https://dream2000.com/asus-ux3402za-oled005w-intel-core-i5-1240p-8gb-ram-512gb-ssd-iris-xe-14-inches-fhd-win-11-ponder-blue.html\n",
      "Message: unknown error: cannot determine loading status\n",
      "from no such window\n",
      "  (Session info: MicrosoftEdge=117.0.2045.31)\n",
      "\n",
      "330\n"
     ]
    },
    {
     "name": "stderr",
     "output_type": "stream",
     "text": [
      "C:\\Users\\Content Designer\\AppData\\Local\\Temp\\ipykernel_23172\\802269280.py:85: DeprecationWarning: Selenium Tools for Microsoft Edge is deprecated. Please upgrade to Selenium 4 which has built-in support for Microsoft Edge (Chromium): https://docs.microsoft.com/en-us/microsoft-edge/webdriver-chromium/#upgrading-from-selenium-3\n",
      "  driver = Edge(executable_path=r\"C:\\Users\\Content Designer\\Downloads\\msedgedriver.exe\")\n"
     ]
    },
    {
     "name": "stdout",
     "output_type": "stream",
     "text": [
      "340\n"
     ]
    },
    {
     "name": "stderr",
     "output_type": "stream",
     "text": [
      "C:\\Users\\Content Designer\\AppData\\Local\\Temp\\ipykernel_23172\\802269280.py:85: DeprecationWarning: Selenium Tools for Microsoft Edge is deprecated. Please upgrade to Selenium 4 which has built-in support for Microsoft Edge (Chromium): https://docs.microsoft.com/en-us/microsoft-edge/webdriver-chromium/#upgrading-from-selenium-3\n",
      "  driver = Edge(executable_path=r\"C:\\Users\\Content Designer\\Downloads\\msedgedriver.exe\")\n"
     ]
    },
    {
     "name": "stdout",
     "output_type": "stream",
     "text": [
      "350\n"
     ]
    },
    {
     "name": "stderr",
     "output_type": "stream",
     "text": [
      "C:\\Users\\Content Designer\\AppData\\Local\\Temp\\ipykernel_23172\\802269280.py:85: DeprecationWarning: Selenium Tools for Microsoft Edge is deprecated. Please upgrade to Selenium 4 which has built-in support for Microsoft Edge (Chromium): https://docs.microsoft.com/en-us/microsoft-edge/webdriver-chromium/#upgrading-from-selenium-3\n",
      "  driver = Edge(executable_path=r\"C:\\Users\\Content Designer\\Downloads\\msedgedriver.exe\")\n"
     ]
    },
    {
     "name": "stdout",
     "output_type": "stream",
     "text": [
      "360\n"
     ]
    },
    {
     "name": "stderr",
     "output_type": "stream",
     "text": [
      "C:\\Users\\Content Designer\\AppData\\Local\\Temp\\ipykernel_23172\\802269280.py:85: DeprecationWarning: Selenium Tools for Microsoft Edge is deprecated. Please upgrade to Selenium 4 which has built-in support for Microsoft Edge (Chromium): https://docs.microsoft.com/en-us/microsoft-edge/webdriver-chromium/#upgrading-from-selenium-3\n",
      "  driver = Edge(executable_path=r\"C:\\Users\\Content Designer\\Downloads\\msedgedriver.exe\")\n"
     ]
    },
    {
     "name": "stdout",
     "output_type": "stream",
     "text": [
      "https://dream2000.com/asus-g513qm-hq415t-amd-ryzentm-7-5800h-16gb-1tb-ssd-15-6-wqhd-win11-gray.html\n",
      "Message: session not created\n",
      "from no such execution context: loader has changed while resolving nodes\n",
      "  (Session info: MicrosoftEdge=117.0.2045.31)\n",
      "\n",
      "370\n"
     ]
    },
    {
     "name": "stderr",
     "output_type": "stream",
     "text": [
      "C:\\Users\\Content Designer\\AppData\\Local\\Temp\\ipykernel_23172\\802269280.py:85: DeprecationWarning: Selenium Tools for Microsoft Edge is deprecated. Please upgrade to Selenium 4 which has built-in support for Microsoft Edge (Chromium): https://docs.microsoft.com/en-us/microsoft-edge/webdriver-chromium/#upgrading-from-selenium-3\n",
      "  driver = Edge(executable_path=r\"C:\\Users\\Content Designer\\Downloads\\msedgedriver.exe\")\n"
     ]
    },
    {
     "name": "stdout",
     "output_type": "stream",
     "text": [
      "380\n"
     ]
    },
    {
     "name": "stderr",
     "output_type": "stream",
     "text": [
      "C:\\Users\\Content Designer\\AppData\\Local\\Temp\\ipykernel_23172\\802269280.py:85: DeprecationWarning: Selenium Tools for Microsoft Edge is deprecated. Please upgrade to Selenium 4 which has built-in support for Microsoft Edge (Chromium): https://docs.microsoft.com/en-us/microsoft-edge/webdriver-chromium/#upgrading-from-selenium-3\n",
      "  driver = Edge(executable_path=r\"C:\\Users\\Content Designer\\Downloads\\msedgedriver.exe\")\n"
     ]
    },
    {
     "name": "stdout",
     "output_type": "stream",
     "text": [
      "390\n"
     ]
    },
    {
     "name": "stderr",
     "output_type": "stream",
     "text": [
      "C:\\Users\\Content Designer\\AppData\\Local\\Temp\\ipykernel_23172\\802269280.py:85: DeprecationWarning: Selenium Tools for Microsoft Edge is deprecated. Please upgrade to Selenium 4 which has built-in support for Microsoft Edge (Chromium): https://docs.microsoft.com/en-us/microsoft-edge/webdriver-chromium/#upgrading-from-selenium-3\n",
      "  driver = Edge(executable_path=r\"C:\\Users\\Content Designer\\Downloads\\msedgedriver.exe\")\n"
     ]
    },
    {
     "name": "stdout",
     "output_type": "stream",
     "text": [
      "400\n"
     ]
    },
    {
     "name": "stderr",
     "output_type": "stream",
     "text": [
      "C:\\Users\\Content Designer\\AppData\\Local\\Temp\\ipykernel_23172\\802269280.py:85: DeprecationWarning: Selenium Tools for Microsoft Edge is deprecated. Please upgrade to Selenium 4 which has built-in support for Microsoft Edge (Chromium): https://docs.microsoft.com/en-us/microsoft-edge/webdriver-chromium/#upgrading-from-selenium-3\n",
      "  driver = Edge(executable_path=r\"C:\\Users\\Content Designer\\Downloads\\msedgedriver.exe\")\n"
     ]
    },
    {
     "name": "stdout",
     "output_type": "stream",
     "text": [
      "410\n"
     ]
    },
    {
     "name": "stderr",
     "output_type": "stream",
     "text": [
      "C:\\Users\\Content Designer\\AppData\\Local\\Temp\\ipykernel_23172\\802269280.py:85: DeprecationWarning: Selenium Tools for Microsoft Edge is deprecated. Please upgrade to Selenium 4 which has built-in support for Microsoft Edge (Chromium): https://docs.microsoft.com/en-us/microsoft-edge/webdriver-chromium/#upgrading-from-selenium-3\n",
      "  driver = Edge(executable_path=r\"C:\\Users\\Content Designer\\Downloads\\msedgedriver.exe\")\n"
     ]
    },
    {
     "name": "stdout",
     "output_type": "stream",
     "text": [
      "420\n"
     ]
    },
    {
     "name": "stderr",
     "output_type": "stream",
     "text": [
      "C:\\Users\\Content Designer\\AppData\\Local\\Temp\\ipykernel_23172\\802269280.py:85: DeprecationWarning: Selenium Tools for Microsoft Edge is deprecated. Please upgrade to Selenium 4 which has built-in support for Microsoft Edge (Chromium): https://docs.microsoft.com/en-us/microsoft-edge/webdriver-chromium/#upgrading-from-selenium-3\n",
      "  driver = Edge(executable_path=r\"C:\\Users\\Content Designer\\Downloads\\msedgedriver.exe\")\n"
     ]
    },
    {
     "name": "stdout",
     "output_type": "stream",
     "text": [
      "430\n"
     ]
    },
    {
     "name": "stderr",
     "output_type": "stream",
     "text": [
      "C:\\Users\\Content Designer\\AppData\\Local\\Temp\\ipykernel_23172\\802269280.py:85: DeprecationWarning: Selenium Tools for Microsoft Edge is deprecated. Please upgrade to Selenium 4 which has built-in support for Microsoft Edge (Chromium): https://docs.microsoft.com/en-us/microsoft-edge/webdriver-chromium/#upgrading-from-selenium-3\n",
      "  driver = Edge(executable_path=r\"C:\\Users\\Content Designer\\Downloads\\msedgedriver.exe\")\n"
     ]
    },
    {
     "name": "stdout",
     "output_type": "stream",
     "text": [
      "440\n"
     ]
    },
    {
     "name": "stderr",
     "output_type": "stream",
     "text": [
      "C:\\Users\\Content Designer\\AppData\\Local\\Temp\\ipykernel_23172\\802269280.py:85: DeprecationWarning: Selenium Tools for Microsoft Edge is deprecated. Please upgrade to Selenium 4 which has built-in support for Microsoft Edge (Chromium): https://docs.microsoft.com/en-us/microsoft-edge/webdriver-chromium/#upgrading-from-selenium-3\n",
      "  driver = Edge(executable_path=r\"C:\\Users\\Content Designer\\Downloads\\msedgedriver.exe\")\n"
     ]
    },
    {
     "name": "stdout",
     "output_type": "stream",
     "text": [
      "450\n"
     ]
    },
    {
     "name": "stderr",
     "output_type": "stream",
     "text": [
      "C:\\Users\\Content Designer\\AppData\\Local\\Temp\\ipykernel_23172\\802269280.py:85: DeprecationWarning: Selenium Tools for Microsoft Edge is deprecated. Please upgrade to Selenium 4 which has built-in support for Microsoft Edge (Chromium): https://docs.microsoft.com/en-us/microsoft-edge/webdriver-chromium/#upgrading-from-selenium-3\n",
      "  driver = Edge(executable_path=r\"C:\\Users\\Content Designer\\Downloads\\msedgedriver.exe\")\n"
     ]
    },
    {
     "name": "stdout",
     "output_type": "stream",
     "text": [
      "460\n"
     ]
    },
    {
     "name": "stderr",
     "output_type": "stream",
     "text": [
      "C:\\Users\\Content Designer\\AppData\\Local\\Temp\\ipykernel_23172\\802269280.py:85: DeprecationWarning: Selenium Tools for Microsoft Edge is deprecated. Please upgrade to Selenium 4 which has built-in support for Microsoft Edge (Chromium): https://docs.microsoft.com/en-us/microsoft-edge/webdriver-chromium/#upgrading-from-selenium-3\n",
      "  driver = Edge(executable_path=r\"C:\\Users\\Content Designer\\Downloads\\msedgedriver.exe\")\n"
     ]
    },
    {
     "name": "stdout",
     "output_type": "stream",
     "text": [
      "470\n"
     ]
    },
    {
     "name": "stderr",
     "output_type": "stream",
     "text": [
      "C:\\Users\\Content Designer\\AppData\\Local\\Temp\\ipykernel_23172\\802269280.py:85: DeprecationWarning: Selenium Tools for Microsoft Edge is deprecated. Please upgrade to Selenium 4 which has built-in support for Microsoft Edge (Chromium): https://docs.microsoft.com/en-us/microsoft-edge/webdriver-chromium/#upgrading-from-selenium-3\n",
      "  driver = Edge(executable_path=r\"C:\\Users\\Content Designer\\Downloads\\msedgedriver.exe\")\n"
     ]
    },
    {
     "name": "stdout",
     "output_type": "stream",
     "text": [
      "480\n"
     ]
    },
    {
     "name": "stderr",
     "output_type": "stream",
     "text": [
      "C:\\Users\\Content Designer\\AppData\\Local\\Temp\\ipykernel_23172\\802269280.py:85: DeprecationWarning: Selenium Tools for Microsoft Edge is deprecated. Please upgrade to Selenium 4 which has built-in support for Microsoft Edge (Chromium): https://docs.microsoft.com/en-us/microsoft-edge/webdriver-chromium/#upgrading-from-selenium-3\n",
      "  driver = Edge(executable_path=r\"C:\\Users\\Content Designer\\Downloads\\msedgedriver.exe\")\n"
     ]
    },
    {
     "name": "stdout",
     "output_type": "stream",
     "text": [
      "490\n"
     ]
    },
    {
     "name": "stderr",
     "output_type": "stream",
     "text": [
      "C:\\Users\\Content Designer\\AppData\\Local\\Temp\\ipykernel_23172\\802269280.py:85: DeprecationWarning: Selenium Tools for Microsoft Edge is deprecated. Please upgrade to Selenium 4 which has built-in support for Microsoft Edge (Chromium): https://docs.microsoft.com/en-us/microsoft-edge/webdriver-chromium/#upgrading-from-selenium-3\n",
      "  driver = Edge(executable_path=r\"C:\\Users\\Content Designer\\Downloads\\msedgedriver.exe\")\n"
     ]
    },
    {
     "name": "stdout",
     "output_type": "stream",
     "text": [
      "500\n"
     ]
    },
    {
     "name": "stderr",
     "output_type": "stream",
     "text": [
      "C:\\Users\\Content Designer\\AppData\\Local\\Temp\\ipykernel_23172\\802269280.py:85: DeprecationWarning: Selenium Tools for Microsoft Edge is deprecated. Please upgrade to Selenium 4 which has built-in support for Microsoft Edge (Chromium): https://docs.microsoft.com/en-us/microsoft-edge/webdriver-chromium/#upgrading-from-selenium-3\n",
      "  driver = Edge(executable_path=r\"C:\\Users\\Content Designer\\Downloads\\msedgedriver.exe\")\n"
     ]
    },
    {
     "name": "stdout",
     "output_type": "stream",
     "text": [
      "510\n"
     ]
    },
    {
     "name": "stderr",
     "output_type": "stream",
     "text": [
      "C:\\Users\\Content Designer\\AppData\\Local\\Temp\\ipykernel_23172\\802269280.py:85: DeprecationWarning: Selenium Tools for Microsoft Edge is deprecated. Please upgrade to Selenium 4 which has built-in support for Microsoft Edge (Chromium): https://docs.microsoft.com/en-us/microsoft-edge/webdriver-chromium/#upgrading-from-selenium-3\n",
      "  driver = Edge(executable_path=r\"C:\\Users\\Content Designer\\Downloads\\msedgedriver.exe\")\n"
     ]
    },
    {
     "name": "stdout",
     "output_type": "stream",
     "text": [
      "https://dream2000.com/huawei-bag-laptop-back-swift-gray.html\n",
      "Message: session not created\n",
      "from no such execution context: uniqueContextId not found\n",
      "  (Session info: MicrosoftEdge=117.0.2045.31)\n",
      "\n",
      "520\n"
     ]
    },
    {
     "name": "stderr",
     "output_type": "stream",
     "text": [
      "C:\\Users\\Content Designer\\AppData\\Local\\Temp\\ipykernel_23172\\802269280.py:85: DeprecationWarning: Selenium Tools for Microsoft Edge is deprecated. Please upgrade to Selenium 4 which has built-in support for Microsoft Edge (Chromium): https://docs.microsoft.com/en-us/microsoft-edge/webdriver-chromium/#upgrading-from-selenium-3\n",
      "  driver = Edge(executable_path=r\"C:\\Users\\Content Designer\\Downloads\\msedgedriver.exe\")\n"
     ]
    },
    {
     "name": "stdout",
     "output_type": "stream",
     "text": [
      "530\n"
     ]
    },
    {
     "name": "stderr",
     "output_type": "stream",
     "text": [
      "C:\\Users\\Content Designer\\AppData\\Local\\Temp\\ipykernel_23172\\802269280.py:85: DeprecationWarning: Selenium Tools for Microsoft Edge is deprecated. Please upgrade to Selenium 4 which has built-in support for Microsoft Edge (Chromium): https://docs.microsoft.com/en-us/microsoft-edge/webdriver-chromium/#upgrading-from-selenium-3\n",
      "  driver = Edge(executable_path=r\"C:\\Users\\Content Designer\\Downloads\\msedgedriver.exe\")\n"
     ]
    },
    {
     "name": "stdout",
     "output_type": "stream",
     "text": [
      "540\n"
     ]
    },
    {
     "name": "stderr",
     "output_type": "stream",
     "text": [
      "C:\\Users\\Content Designer\\AppData\\Local\\Temp\\ipykernel_23172\\802269280.py:85: DeprecationWarning: Selenium Tools for Microsoft Edge is deprecated. Please upgrade to Selenium 4 which has built-in support for Microsoft Edge (Chromium): https://docs.microsoft.com/en-us/microsoft-edge/webdriver-chromium/#upgrading-from-selenium-3\n",
      "  driver = Edge(executable_path=r\"C:\\Users\\Content Designer\\Downloads\\msedgedriver.exe\")\n"
     ]
    },
    {
     "name": "stdout",
     "output_type": "stream",
     "text": [
      "550\n"
     ]
    },
    {
     "name": "stderr",
     "output_type": "stream",
     "text": [
      "C:\\Users\\Content Designer\\AppData\\Local\\Temp\\ipykernel_23172\\802269280.py:85: DeprecationWarning: Selenium Tools for Microsoft Edge is deprecated. Please upgrade to Selenium 4 which has built-in support for Microsoft Edge (Chromium): https://docs.microsoft.com/en-us/microsoft-edge/webdriver-chromium/#upgrading-from-selenium-3\n",
      "  driver = Edge(executable_path=r\"C:\\Users\\Content Designer\\Downloads\\msedgedriver.exe\")\n"
     ]
    },
    {
     "name": "stdout",
     "output_type": "stream",
     "text": [
      "https://dream2000.com/kingston-flash-data-traveler-256gb-usb-3-2.html\n",
      "Message: session not created\n",
      "from no such execution context: loader has changed while resolving nodes\n",
      "  (Session info: MicrosoftEdge=117.0.2045.31)\n",
      "\n",
      "560\n"
     ]
    },
    {
     "name": "stderr",
     "output_type": "stream",
     "text": [
      "C:\\Users\\Content Designer\\AppData\\Local\\Temp\\ipykernel_23172\\802269280.py:85: DeprecationWarning: Selenium Tools for Microsoft Edge is deprecated. Please upgrade to Selenium 4 which has built-in support for Microsoft Edge (Chromium): https://docs.microsoft.com/en-us/microsoft-edge/webdriver-chromium/#upgrading-from-selenium-3\n",
      "  driver = Edge(executable_path=r\"C:\\Users\\Content Designer\\Downloads\\msedgedriver.exe\")\n"
     ]
    },
    {
     "name": "stdout",
     "output_type": "stream",
     "text": [
      "570\n"
     ]
    },
    {
     "name": "stderr",
     "output_type": "stream",
     "text": [
      "C:\\Users\\Content Designer\\AppData\\Local\\Temp\\ipykernel_23172\\802269280.py:85: DeprecationWarning: Selenium Tools for Microsoft Edge is deprecated. Please upgrade to Selenium 4 which has built-in support for Microsoft Edge (Chromium): https://docs.microsoft.com/en-us/microsoft-edge/webdriver-chromium/#upgrading-from-selenium-3\n",
      "  driver = Edge(executable_path=r\"C:\\Users\\Content Designer\\Downloads\\msedgedriver.exe\")\n"
     ]
    },
    {
     "name": "stdout",
     "output_type": "stream",
     "text": [
      "580\n"
     ]
    },
    {
     "name": "stderr",
     "output_type": "stream",
     "text": [
      "C:\\Users\\Content Designer\\AppData\\Local\\Temp\\ipykernel_23172\\802269280.py:85: DeprecationWarning: Selenium Tools for Microsoft Edge is deprecated. Please upgrade to Selenium 4 which has built-in support for Microsoft Edge (Chromium): https://docs.microsoft.com/en-us/microsoft-edge/webdriver-chromium/#upgrading-from-selenium-3\n",
      "  driver = Edge(executable_path=r\"C:\\Users\\Content Designer\\Downloads\\msedgedriver.exe\")\n"
     ]
    },
    {
     "name": "stdout",
     "output_type": "stream",
     "text": [
      "590\n"
     ]
    },
    {
     "name": "stderr",
     "output_type": "stream",
     "text": [
      "C:\\Users\\Content Designer\\AppData\\Local\\Temp\\ipykernel_23172\\802269280.py:85: DeprecationWarning: Selenium Tools for Microsoft Edge is deprecated. Please upgrade to Selenium 4 which has built-in support for Microsoft Edge (Chromium): https://docs.microsoft.com/en-us/microsoft-edge/webdriver-chromium/#upgrading-from-selenium-3\n",
      "  driver = Edge(executable_path=r\"C:\\Users\\Content Designer\\Downloads\\msedgedriver.exe\")\n"
     ]
    },
    {
     "name": "stdout",
     "output_type": "stream",
     "text": [
      "600\n"
     ]
    },
    {
     "name": "stderr",
     "output_type": "stream",
     "text": [
      "C:\\Users\\Content Designer\\AppData\\Local\\Temp\\ipykernel_23172\\802269280.py:85: DeprecationWarning: Selenium Tools for Microsoft Edge is deprecated. Please upgrade to Selenium 4 which has built-in support for Microsoft Edge (Chromium): https://docs.microsoft.com/en-us/microsoft-edge/webdriver-chromium/#upgrading-from-selenium-3\n",
      "  driver = Edge(executable_path=r\"C:\\Users\\Content Designer\\Downloads\\msedgedriver.exe\")\n"
     ]
    },
    {
     "name": "stdout",
     "output_type": "stream",
     "text": [
      "610\n"
     ]
    },
    {
     "name": "stderr",
     "output_type": "stream",
     "text": [
      "C:\\Users\\Content Designer\\AppData\\Local\\Temp\\ipykernel_23172\\802269280.py:85: DeprecationWarning: Selenium Tools for Microsoft Edge is deprecated. Please upgrade to Selenium 4 which has built-in support for Microsoft Edge (Chromium): https://docs.microsoft.com/en-us/microsoft-edge/webdriver-chromium/#upgrading-from-selenium-3\n",
      "  driver = Edge(executable_path=r\"C:\\Users\\Content Designer\\Downloads\\msedgedriver.exe\")\n"
     ]
    },
    {
     "name": "stdout",
     "output_type": "stream",
     "text": [
      "https://dream2000.com/crucial-hard-disk-1000gb-bx500.html\n",
      "Message: session not created\n",
      "from no such execution context: loader has changed while resolving nodes\n",
      "  (Session info: MicrosoftEdge=117.0.2045.31)\n",
      "\n",
      "https://dream2000.com/porodo-power-bank-10000-mah-type-c-for-lightning-gray.html\n",
      "Message: session not created\n",
      "from no such execution context: loader has changed while resolving nodes\n",
      "  (Session info: MicrosoftEdge=117.0.2045.31)\n",
      "\n",
      "620\n"
     ]
    },
    {
     "name": "stderr",
     "output_type": "stream",
     "text": [
      "C:\\Users\\Content Designer\\AppData\\Local\\Temp\\ipykernel_23172\\802269280.py:85: DeprecationWarning: Selenium Tools for Microsoft Edge is deprecated. Please upgrade to Selenium 4 which has built-in support for Microsoft Edge (Chromium): https://docs.microsoft.com/en-us/microsoft-edge/webdriver-chromium/#upgrading-from-selenium-3\n",
      "  driver = Edge(executable_path=r\"C:\\Users\\Content Designer\\Downloads\\msedgedriver.exe\")\n"
     ]
    },
    {
     "name": "stdout",
     "output_type": "stream",
     "text": [
      "630\n"
     ]
    },
    {
     "name": "stderr",
     "output_type": "stream",
     "text": [
      "C:\\Users\\Content Designer\\AppData\\Local\\Temp\\ipykernel_23172\\802269280.py:85: DeprecationWarning: Selenium Tools for Microsoft Edge is deprecated. Please upgrade to Selenium 4 which has built-in support for Microsoft Edge (Chromium): https://docs.microsoft.com/en-us/microsoft-edge/webdriver-chromium/#upgrading-from-selenium-3\n",
      "  driver = Edge(executable_path=r\"C:\\Users\\Content Designer\\Downloads\\msedgedriver.exe\")\n"
     ]
    },
    {
     "name": "stdout",
     "output_type": "stream",
     "text": [
      "640\n"
     ]
    },
    {
     "name": "stderr",
     "output_type": "stream",
     "text": [
      "C:\\Users\\Content Designer\\AppData\\Local\\Temp\\ipykernel_23172\\802269280.py:85: DeprecationWarning: Selenium Tools for Microsoft Edge is deprecated. Please upgrade to Selenium 4 which has built-in support for Microsoft Edge (Chromium): https://docs.microsoft.com/en-us/microsoft-edge/webdriver-chromium/#upgrading-from-selenium-3\n",
      "  driver = Edge(executable_path=r\"C:\\Users\\Content Designer\\Downloads\\msedgedriver.exe\")\n"
     ]
    },
    {
     "name": "stdout",
     "output_type": "stream",
     "text": [
      "650\n"
     ]
    },
    {
     "name": "stderr",
     "output_type": "stream",
     "text": [
      "C:\\Users\\Content Designer\\AppData\\Local\\Temp\\ipykernel_23172\\802269280.py:85: DeprecationWarning: Selenium Tools for Microsoft Edge is deprecated. Please upgrade to Selenium 4 which has built-in support for Microsoft Edge (Chromium): https://docs.microsoft.com/en-us/microsoft-edge/webdriver-chromium/#upgrading-from-selenium-3\n",
      "  driver = Edge(executable_path=r\"C:\\Users\\Content Designer\\Downloads\\msedgedriver.exe\")\n"
     ]
    },
    {
     "name": "stdout",
     "output_type": "stream",
     "text": [
      "660\n"
     ]
    },
    {
     "name": "stderr",
     "output_type": "stream",
     "text": [
      "C:\\Users\\Content Designer\\AppData\\Local\\Temp\\ipykernel_23172\\802269280.py:85: DeprecationWarning: Selenium Tools for Microsoft Edge is deprecated. Please upgrade to Selenium 4 which has built-in support for Microsoft Edge (Chromium): https://docs.microsoft.com/en-us/microsoft-edge/webdriver-chromium/#upgrading-from-selenium-3\n",
      "  driver = Edge(executable_path=r\"C:\\Users\\Content Designer\\Downloads\\msedgedriver.exe\")\n"
     ]
    },
    {
     "name": "stdout",
     "output_type": "stream",
     "text": [
      "670\n"
     ]
    },
    {
     "name": "stderr",
     "output_type": "stream",
     "text": [
      "C:\\Users\\Content Designer\\AppData\\Local\\Temp\\ipykernel_23172\\802269280.py:85: DeprecationWarning: Selenium Tools for Microsoft Edge is deprecated. Please upgrade to Selenium 4 which has built-in support for Microsoft Edge (Chromium): https://docs.microsoft.com/en-us/microsoft-edge/webdriver-chromium/#upgrading-from-selenium-3\n",
      "  driver = Edge(executable_path=r\"C:\\Users\\Content Designer\\Downloads\\msedgedriver.exe\")\n"
     ]
    },
    {
     "name": "stdout",
     "output_type": "stream",
     "text": [
      "680\n"
     ]
    },
    {
     "name": "stderr",
     "output_type": "stream",
     "text": [
      "C:\\Users\\Content Designer\\AppData\\Local\\Temp\\ipykernel_23172\\802269280.py:85: DeprecationWarning: Selenium Tools for Microsoft Edge is deprecated. Please upgrade to Selenium 4 which has built-in support for Microsoft Edge (Chromium): https://docs.microsoft.com/en-us/microsoft-edge/webdriver-chromium/#upgrading-from-selenium-3\n",
      "  driver = Edge(executable_path=r\"C:\\Users\\Content Designer\\Downloads\\msedgedriver.exe\")\n"
     ]
    },
    {
     "name": "stdout",
     "output_type": "stream",
     "text": [
      "690\n"
     ]
    },
    {
     "name": "stderr",
     "output_type": "stream",
     "text": [
      "C:\\Users\\Content Designer\\AppData\\Local\\Temp\\ipykernel_23172\\802269280.py:85: DeprecationWarning: Selenium Tools for Microsoft Edge is deprecated. Please upgrade to Selenium 4 which has built-in support for Microsoft Edge (Chromium): https://docs.microsoft.com/en-us/microsoft-edge/webdriver-chromium/#upgrading-from-selenium-3\n",
      "  driver = Edge(executable_path=r\"C:\\Users\\Content Designer\\Downloads\\msedgedriver.exe\")\n"
     ]
    },
    {
     "name": "stdout",
     "output_type": "stream",
     "text": [
      "700\n"
     ]
    },
    {
     "name": "stderr",
     "output_type": "stream",
     "text": [
      "C:\\Users\\Content Designer\\AppData\\Local\\Temp\\ipykernel_23172\\802269280.py:85: DeprecationWarning: Selenium Tools for Microsoft Edge is deprecated. Please upgrade to Selenium 4 which has built-in support for Microsoft Edge (Chromium): https://docs.microsoft.com/en-us/microsoft-edge/webdriver-chromium/#upgrading-from-selenium-3\n",
      "  driver = Edge(executable_path=r\"C:\\Users\\Content Designer\\Downloads\\msedgedriver.exe\")\n"
     ]
    },
    {
     "name": "stdout",
     "output_type": "stream",
     "text": [
      "710\n"
     ]
    },
    {
     "name": "stderr",
     "output_type": "stream",
     "text": [
      "C:\\Users\\Content Designer\\AppData\\Local\\Temp\\ipykernel_23172\\802269280.py:85: DeprecationWarning: Selenium Tools for Microsoft Edge is deprecated. Please upgrade to Selenium 4 which has built-in support for Microsoft Edge (Chromium): https://docs.microsoft.com/en-us/microsoft-edge/webdriver-chromium/#upgrading-from-selenium-3\n",
      "  driver = Edge(executable_path=r\"C:\\Users\\Content Designer\\Downloads\\msedgedriver.exe\")\n"
     ]
    },
    {
     "name": "stdout",
     "output_type": "stream",
     "text": [
      "720\n"
     ]
    },
    {
     "name": "stderr",
     "output_type": "stream",
     "text": [
      "C:\\Users\\Content Designer\\AppData\\Local\\Temp\\ipykernel_23172\\802269280.py:85: DeprecationWarning: Selenium Tools for Microsoft Edge is deprecated. Please upgrade to Selenium 4 which has built-in support for Microsoft Edge (Chromium): https://docs.microsoft.com/en-us/microsoft-edge/webdriver-chromium/#upgrading-from-selenium-3\n",
      "  driver = Edge(executable_path=r\"C:\\Users\\Content Designer\\Downloads\\msedgedriver.exe\")\n"
     ]
    },
    {
     "name": "stdout",
     "output_type": "stream",
     "text": [
      "730\n"
     ]
    },
    {
     "name": "stderr",
     "output_type": "stream",
     "text": [
      "C:\\Users\\Content Designer\\AppData\\Local\\Temp\\ipykernel_23172\\802269280.py:85: DeprecationWarning: Selenium Tools for Microsoft Edge is deprecated. Please upgrade to Selenium 4 which has built-in support for Microsoft Edge (Chromium): https://docs.microsoft.com/en-us/microsoft-edge/webdriver-chromium/#upgrading-from-selenium-3\n",
      "  driver = Edge(executable_path=r\"C:\\Users\\Content Designer\\Downloads\\msedgedriver.exe\")\n"
     ]
    },
    {
     "name": "stdout",
     "output_type": "stream",
     "text": [
      "740\n"
     ]
    },
    {
     "name": "stderr",
     "output_type": "stream",
     "text": [
      "C:\\Users\\Content Designer\\AppData\\Local\\Temp\\ipykernel_23172\\802269280.py:85: DeprecationWarning: Selenium Tools for Microsoft Edge is deprecated. Please upgrade to Selenium 4 which has built-in support for Microsoft Edge (Chromium): https://docs.microsoft.com/en-us/microsoft-edge/webdriver-chromium/#upgrading-from-selenium-3\n",
      "  driver = Edge(executable_path=r\"C:\\Users\\Content Designer\\Downloads\\msedgedriver.exe\")\n"
     ]
    },
    {
     "name": "stdout",
     "output_type": "stream",
     "text": [
      "750\n"
     ]
    },
    {
     "name": "stderr",
     "output_type": "stream",
     "text": [
      "C:\\Users\\Content Designer\\AppData\\Local\\Temp\\ipykernel_23172\\802269280.py:85: DeprecationWarning: Selenium Tools for Microsoft Edge is deprecated. Please upgrade to Selenium 4 which has built-in support for Microsoft Edge (Chromium): https://docs.microsoft.com/en-us/microsoft-edge/webdriver-chromium/#upgrading-from-selenium-3\n",
      "  driver = Edge(executable_path=r\"C:\\Users\\Content Designer\\Downloads\\msedgedriver.exe\")\n"
     ]
    },
    {
     "name": "stdout",
     "output_type": "stream",
     "text": [
      "760\n"
     ]
    },
    {
     "name": "stderr",
     "output_type": "stream",
     "text": [
      "C:\\Users\\Content Designer\\AppData\\Local\\Temp\\ipykernel_23172\\802269280.py:85: DeprecationWarning: Selenium Tools for Microsoft Edge is deprecated. Please upgrade to Selenium 4 which has built-in support for Microsoft Edge (Chromium): https://docs.microsoft.com/en-us/microsoft-edge/webdriver-chromium/#upgrading-from-selenium-3\n",
      "  driver = Edge(executable_path=r\"C:\\Users\\Content Designer\\Downloads\\msedgedriver.exe\")\n"
     ]
    },
    {
     "name": "stdout",
     "output_type": "stream",
     "text": [
      "770\n"
     ]
    },
    {
     "name": "stderr",
     "output_type": "stream",
     "text": [
      "C:\\Users\\Content Designer\\AppData\\Local\\Temp\\ipykernel_23172\\802269280.py:85: DeprecationWarning: Selenium Tools for Microsoft Edge is deprecated. Please upgrade to Selenium 4 which has built-in support for Microsoft Edge (Chromium): https://docs.microsoft.com/en-us/microsoft-edge/webdriver-chromium/#upgrading-from-selenium-3\n",
      "  driver = Edge(executable_path=r\"C:\\Users\\Content Designer\\Downloads\\msedgedriver.exe\")\n"
     ]
    },
    {
     "name": "stdout",
     "output_type": "stream",
     "text": [
      "780\n"
     ]
    },
    {
     "name": "stderr",
     "output_type": "stream",
     "text": [
      "C:\\Users\\Content Designer\\AppData\\Local\\Temp\\ipykernel_23172\\802269280.py:85: DeprecationWarning: Selenium Tools for Microsoft Edge is deprecated. Please upgrade to Selenium 4 which has built-in support for Microsoft Edge (Chromium): https://docs.microsoft.com/en-us/microsoft-edge/webdriver-chromium/#upgrading-from-selenium-3\n",
      "  driver = Edge(executable_path=r\"C:\\Users\\Content Designer\\Downloads\\msedgedriver.exe\")\n"
     ]
    },
    {
     "name": "stdout",
     "output_type": "stream",
     "text": [
      "790\n"
     ]
    },
    {
     "name": "stderr",
     "output_type": "stream",
     "text": [
      "C:\\Users\\Content Designer\\AppData\\Local\\Temp\\ipykernel_23172\\802269280.py:85: DeprecationWarning: Selenium Tools for Microsoft Edge is deprecated. Please upgrade to Selenium 4 which has built-in support for Microsoft Edge (Chromium): https://docs.microsoft.com/en-us/microsoft-edge/webdriver-chromium/#upgrading-from-selenium-3\n",
      "  driver = Edge(executable_path=r\"C:\\Users\\Content Designer\\Downloads\\msedgedriver.exe\")\n"
     ]
    },
    {
     "name": "stdout",
     "output_type": "stream",
     "text": [
      "https://dream2000.com/rock-rose-charger-home-adapter-pd-power-cubell-g30-rrtc11eu.html\n",
      "Message: session not created\n",
      "from no such execution context: uniqueContextId not found\n",
      "  (Session info: MicrosoftEdge=117.0.2045.31)\n",
      "\n",
      "800\n"
     ]
    },
    {
     "name": "stderr",
     "output_type": "stream",
     "text": [
      "C:\\Users\\Content Designer\\AppData\\Local\\Temp\\ipykernel_23172\\802269280.py:85: DeprecationWarning: Selenium Tools for Microsoft Edge is deprecated. Please upgrade to Selenium 4 which has built-in support for Microsoft Edge (Chromium): https://docs.microsoft.com/en-us/microsoft-edge/webdriver-chromium/#upgrading-from-selenium-3\n",
      "  driver = Edge(executable_path=r\"C:\\Users\\Content Designer\\Downloads\\msedgedriver.exe\")\n"
     ]
    },
    {
     "name": "stdout",
     "output_type": "stream",
     "text": [
      "810\n"
     ]
    },
    {
     "name": "stderr",
     "output_type": "stream",
     "text": [
      "C:\\Users\\Content Designer\\AppData\\Local\\Temp\\ipykernel_23172\\802269280.py:85: DeprecationWarning: Selenium Tools for Microsoft Edge is deprecated. Please upgrade to Selenium 4 which has built-in support for Microsoft Edge (Chromium): https://docs.microsoft.com/en-us/microsoft-edge/webdriver-chromium/#upgrading-from-selenium-3\n",
      "  driver = Edge(executable_path=r\"C:\\Users\\Content Designer\\Downloads\\msedgedriver.exe\")\n"
     ]
    },
    {
     "name": "stdout",
     "output_type": "stream",
     "text": [
      "820\n"
     ]
    },
    {
     "name": "stderr",
     "output_type": "stream",
     "text": [
      "C:\\Users\\Content Designer\\AppData\\Local\\Temp\\ipykernel_23172\\802269280.py:85: DeprecationWarning: Selenium Tools for Microsoft Edge is deprecated. Please upgrade to Selenium 4 which has built-in support for Microsoft Edge (Chromium): https://docs.microsoft.com/en-us/microsoft-edge/webdriver-chromium/#upgrading-from-selenium-3\n",
      "  driver = Edge(executable_path=r\"C:\\Users\\Content Designer\\Downloads\\msedgedriver.exe\")\n"
     ]
    },
    {
     "name": "stdout",
     "output_type": "stream",
     "text": [
      "830\n"
     ]
    },
    {
     "name": "stderr",
     "output_type": "stream",
     "text": [
      "C:\\Users\\Content Designer\\AppData\\Local\\Temp\\ipykernel_23172\\802269280.py:85: DeprecationWarning: Selenium Tools for Microsoft Edge is deprecated. Please upgrade to Selenium 4 which has built-in support for Microsoft Edge (Chromium): https://docs.microsoft.com/en-us/microsoft-edge/webdriver-chromium/#upgrading-from-selenium-3\n",
      "  driver = Edge(executable_path=r\"C:\\Users\\Content Designer\\Downloads\\msedgedriver.exe\")\n"
     ]
    },
    {
     "name": "stdout",
     "output_type": "stream",
     "text": [
      "840\n"
     ]
    },
    {
     "name": "stderr",
     "output_type": "stream",
     "text": [
      "C:\\Users\\Content Designer\\AppData\\Local\\Temp\\ipykernel_23172\\802269280.py:85: DeprecationWarning: Selenium Tools for Microsoft Edge is deprecated. Please upgrade to Selenium 4 which has built-in support for Microsoft Edge (Chromium): https://docs.microsoft.com/en-us/microsoft-edge/webdriver-chromium/#upgrading-from-selenium-3\n",
      "  driver = Edge(executable_path=r\"C:\\Users\\Content Designer\\Downloads\\msedgedriver.exe\")\n"
     ]
    },
    {
     "name": "stdout",
     "output_type": "stream",
     "text": [
      "850\n"
     ]
    },
    {
     "name": "stderr",
     "output_type": "stream",
     "text": [
      "C:\\Users\\Content Designer\\AppData\\Local\\Temp\\ipykernel_23172\\802269280.py:85: DeprecationWarning: Selenium Tools for Microsoft Edge is deprecated. Please upgrade to Selenium 4 which has built-in support for Microsoft Edge (Chromium): https://docs.microsoft.com/en-us/microsoft-edge/webdriver-chromium/#upgrading-from-selenium-3\n",
      "  driver = Edge(executable_path=r\"C:\\Users\\Content Designer\\Downloads\\msedgedriver.exe\")\n"
     ]
    },
    {
     "name": "stdout",
     "output_type": "stream",
     "text": [
      "860\n"
     ]
    },
    {
     "name": "stderr",
     "output_type": "stream",
     "text": [
      "C:\\Users\\Content Designer\\AppData\\Local\\Temp\\ipykernel_23172\\802269280.py:85: DeprecationWarning: Selenium Tools for Microsoft Edge is deprecated. Please upgrade to Selenium 4 which has built-in support for Microsoft Edge (Chromium): https://docs.microsoft.com/en-us/microsoft-edge/webdriver-chromium/#upgrading-from-selenium-3\n",
      "  driver = Edge(executable_path=r\"C:\\Users\\Content Designer\\Downloads\\msedgedriver.exe\")\n"
     ]
    },
    {
     "name": "stdout",
     "output_type": "stream",
     "text": [
      "870\n"
     ]
    },
    {
     "name": "stderr",
     "output_type": "stream",
     "text": [
      "C:\\Users\\Content Designer\\AppData\\Local\\Temp\\ipykernel_23172\\802269280.py:85: DeprecationWarning: Selenium Tools for Microsoft Edge is deprecated. Please upgrade to Selenium 4 which has built-in support for Microsoft Edge (Chromium): https://docs.microsoft.com/en-us/microsoft-edge/webdriver-chromium/#upgrading-from-selenium-3\n",
      "  driver = Edge(executable_path=r\"C:\\Users\\Content Designer\\Downloads\\msedgedriver.exe\")\n"
     ]
    },
    {
     "name": "stdout",
     "output_type": "stream",
     "text": [
      "880\n"
     ]
    },
    {
     "name": "stderr",
     "output_type": "stream",
     "text": [
      "C:\\Users\\Content Designer\\AppData\\Local\\Temp\\ipykernel_23172\\802269280.py:85: DeprecationWarning: Selenium Tools for Microsoft Edge is deprecated. Please upgrade to Selenium 4 which has built-in support for Microsoft Edge (Chromium): https://docs.microsoft.com/en-us/microsoft-edge/webdriver-chromium/#upgrading-from-selenium-3\n",
      "  driver = Edge(executable_path=r\"C:\\Users\\Content Designer\\Downloads\\msedgedriver.exe\")\n"
     ]
    },
    {
     "name": "stdout",
     "output_type": "stream",
     "text": [
      "https://dream2000.com/recci-free-pods-mars-rep-w58-black.html\n",
      "Message: unknown error: cannot determine loading status\n",
      "from no such window\n",
      "  (Session info: MicrosoftEdge=117.0.2045.31)\n",
      "\n",
      "890\n"
     ]
    },
    {
     "name": "stderr",
     "output_type": "stream",
     "text": [
      "C:\\Users\\Content Designer\\AppData\\Local\\Temp\\ipykernel_23172\\802269280.py:85: DeprecationWarning: Selenium Tools for Microsoft Edge is deprecated. Please upgrade to Selenium 4 which has built-in support for Microsoft Edge (Chromium): https://docs.microsoft.com/en-us/microsoft-edge/webdriver-chromium/#upgrading-from-selenium-3\n",
      "  driver = Edge(executable_path=r\"C:\\Users\\Content Designer\\Downloads\\msedgedriver.exe\")\n"
     ]
    },
    {
     "name": "stdout",
     "output_type": "stream",
     "text": [
      "900\n"
     ]
    },
    {
     "name": "stderr",
     "output_type": "stream",
     "text": [
      "C:\\Users\\Content Designer\\AppData\\Local\\Temp\\ipykernel_23172\\802269280.py:85: DeprecationWarning: Selenium Tools for Microsoft Edge is deprecated. Please upgrade to Selenium 4 which has built-in support for Microsoft Edge (Chromium): https://docs.microsoft.com/en-us/microsoft-edge/webdriver-chromium/#upgrading-from-selenium-3\n",
      "  driver = Edge(executable_path=r\"C:\\Users\\Content Designer\\Downloads\\msedgedriver.exe\")\n"
     ]
    },
    {
     "name": "stdout",
     "output_type": "stream",
     "text": [
      "https://dream2000.com/oraimo-buds-e03d-roll-white.html\n",
      "Message: unknown error: cannot determine loading status\n",
      "from no such window\n",
      "  (Session info: MicrosoftEdge=117.0.2045.31)\n",
      "\n",
      "910\n"
     ]
    },
    {
     "name": "stderr",
     "output_type": "stream",
     "text": [
      "C:\\Users\\Content Designer\\AppData\\Local\\Temp\\ipykernel_23172\\802269280.py:85: DeprecationWarning: Selenium Tools for Microsoft Edge is deprecated. Please upgrade to Selenium 4 which has built-in support for Microsoft Edge (Chromium): https://docs.microsoft.com/en-us/microsoft-edge/webdriver-chromium/#upgrading-from-selenium-3\n",
      "  driver = Edge(executable_path=r\"C:\\Users\\Content Designer\\Downloads\\msedgedriver.exe\")\n"
     ]
    },
    {
     "name": "stdout",
     "output_type": "stream",
     "text": [
      "920\n"
     ]
    },
    {
     "name": "stderr",
     "output_type": "stream",
     "text": [
      "C:\\Users\\Content Designer\\AppData\\Local\\Temp\\ipykernel_23172\\802269280.py:85: DeprecationWarning: Selenium Tools for Microsoft Edge is deprecated. Please upgrade to Selenium 4 which has built-in support for Microsoft Edge (Chromium): https://docs.microsoft.com/en-us/microsoft-edge/webdriver-chromium/#upgrading-from-selenium-3\n",
      "  driver = Edge(executable_path=r\"C:\\Users\\Content Designer\\Downloads\\msedgedriver.exe\")\n"
     ]
    },
    {
     "name": "stdout",
     "output_type": "stream",
     "text": [
      "930\n"
     ]
    },
    {
     "name": "stderr",
     "output_type": "stream",
     "text": [
      "C:\\Users\\Content Designer\\AppData\\Local\\Temp\\ipykernel_23172\\802269280.py:85: DeprecationWarning: Selenium Tools for Microsoft Edge is deprecated. Please upgrade to Selenium 4 which has built-in support for Microsoft Edge (Chromium): https://docs.microsoft.com/en-us/microsoft-edge/webdriver-chromium/#upgrading-from-selenium-3\n",
      "  driver = Edge(executable_path=r\"C:\\Users\\Content Designer\\Downloads\\msedgedriver.exe\")\n"
     ]
    },
    {
     "name": "stdout",
     "output_type": "stream",
     "text": [
      "940\n"
     ]
    },
    {
     "name": "stderr",
     "output_type": "stream",
     "text": [
      "C:\\Users\\Content Designer\\AppData\\Local\\Temp\\ipykernel_23172\\802269280.py:85: DeprecationWarning: Selenium Tools for Microsoft Edge is deprecated. Please upgrade to Selenium 4 which has built-in support for Microsoft Edge (Chromium): https://docs.microsoft.com/en-us/microsoft-edge/webdriver-chromium/#upgrading-from-selenium-3\n",
      "  driver = Edge(executable_path=r\"C:\\Users\\Content Designer\\Downloads\\msedgedriver.exe\")\n"
     ]
    },
    {
     "name": "stdout",
     "output_type": "stream",
     "text": [
      "950\n"
     ]
    },
    {
     "name": "stderr",
     "output_type": "stream",
     "text": [
      "C:\\Users\\Content Designer\\AppData\\Local\\Temp\\ipykernel_23172\\802269280.py:85: DeprecationWarning: Selenium Tools for Microsoft Edge is deprecated. Please upgrade to Selenium 4 which has built-in support for Microsoft Edge (Chromium): https://docs.microsoft.com/en-us/microsoft-edge/webdriver-chromium/#upgrading-from-selenium-3\n",
      "  driver = Edge(executable_path=r\"C:\\Users\\Content Designer\\Downloads\\msedgedriver.exe\")\n"
     ]
    },
    {
     "name": "stdout",
     "output_type": "stream",
     "text": [
      "960\n"
     ]
    },
    {
     "name": "stderr",
     "output_type": "stream",
     "text": [
      "C:\\Users\\Content Designer\\AppData\\Local\\Temp\\ipykernel_23172\\802269280.py:85: DeprecationWarning: Selenium Tools for Microsoft Edge is deprecated. Please upgrade to Selenium 4 which has built-in support for Microsoft Edge (Chromium): https://docs.microsoft.com/en-us/microsoft-edge/webdriver-chromium/#upgrading-from-selenium-3\n",
      "  driver = Edge(executable_path=r\"C:\\Users\\Content Designer\\Downloads\\msedgedriver.exe\")\n"
     ]
    },
    {
     "name": "stdout",
     "output_type": "stream",
     "text": [
      "https://dream2000.com/oraimo-earphone-wireless-oeb-e30d-waterproof-neckband-black.html\n",
      "Message: session not created\n",
      "from no such execution context: uniqueContextId not found\n",
      "  (Session info: MicrosoftEdge=117.0.2045.31)\n",
      "\n",
      "970\n"
     ]
    },
    {
     "name": "stderr",
     "output_type": "stream",
     "text": [
      "C:\\Users\\Content Designer\\AppData\\Local\\Temp\\ipykernel_23172\\802269280.py:85: DeprecationWarning: Selenium Tools for Microsoft Edge is deprecated. Please upgrade to Selenium 4 which has built-in support for Microsoft Edge (Chromium): https://docs.microsoft.com/en-us/microsoft-edge/webdriver-chromium/#upgrading-from-selenium-3\n",
      "  driver = Edge(executable_path=r\"C:\\Users\\Content Designer\\Downloads\\msedgedriver.exe\")\n"
     ]
    },
    {
     "name": "stdout",
     "output_type": "stream",
     "text": [
      "980\n"
     ]
    },
    {
     "name": "stderr",
     "output_type": "stream",
     "text": [
      "C:\\Users\\Content Designer\\AppData\\Local\\Temp\\ipykernel_23172\\802269280.py:85: DeprecationWarning: Selenium Tools for Microsoft Edge is deprecated. Please upgrade to Selenium 4 which has built-in support for Microsoft Edge (Chromium): https://docs.microsoft.com/en-us/microsoft-edge/webdriver-chromium/#upgrading-from-selenium-3\n",
      "  driver = Edge(executable_path=r\"C:\\Users\\Content Designer\\Downloads\\msedgedriver.exe\")\n"
     ]
    },
    {
     "name": "stdout",
     "output_type": "stream",
     "text": [
      "990\n"
     ]
    },
    {
     "name": "stderr",
     "output_type": "stream",
     "text": [
      "C:\\Users\\Content Designer\\AppData\\Local\\Temp\\ipykernel_23172\\802269280.py:85: DeprecationWarning: Selenium Tools for Microsoft Edge is deprecated. Please upgrade to Selenium 4 which has built-in support for Microsoft Edge (Chromium): https://docs.microsoft.com/en-us/microsoft-edge/webdriver-chromium/#upgrading-from-selenium-3\n",
      "  driver = Edge(executable_path=r\"C:\\Users\\Content Designer\\Downloads\\msedgedriver.exe\")\n"
     ]
    },
    {
     "name": "stdout",
     "output_type": "stream",
     "text": [
      "1000\n"
     ]
    },
    {
     "name": "stderr",
     "output_type": "stream",
     "text": [
      "C:\\Users\\Content Designer\\AppData\\Local\\Temp\\ipykernel_23172\\802269280.py:85: DeprecationWarning: Selenium Tools for Microsoft Edge is deprecated. Please upgrade to Selenium 4 which has built-in support for Microsoft Edge (Chromium): https://docs.microsoft.com/en-us/microsoft-edge/webdriver-chromium/#upgrading-from-selenium-3\n",
      "  driver = Edge(executable_path=r\"C:\\Users\\Content Designer\\Downloads\\msedgedriver.exe\")\n"
     ]
    },
    {
     "name": "stdout",
     "output_type": "stream",
     "text": [
      "https://dream2000.com/bingo-zones-headphone-wireless-b16-black.html\n",
      "Message: session not created\n",
      "from no such execution context: loader has changed while resolving nodes\n",
      "  (Session info: MicrosoftEdge=117.0.2045.31)\n",
      "\n",
      "1010\n"
     ]
    },
    {
     "name": "stderr",
     "output_type": "stream",
     "text": [
      "C:\\Users\\Content Designer\\AppData\\Local\\Temp\\ipykernel_23172\\802269280.py:85: DeprecationWarning: Selenium Tools for Microsoft Edge is deprecated. Please upgrade to Selenium 4 which has built-in support for Microsoft Edge (Chromium): https://docs.microsoft.com/en-us/microsoft-edge/webdriver-chromium/#upgrading-from-selenium-3\n",
      "  driver = Edge(executable_path=r\"C:\\Users\\Content Designer\\Downloads\\msedgedriver.exe\")\n"
     ]
    },
    {
     "name": "stdout",
     "output_type": "stream",
     "text": [
      "https://dream2000.com/headphone-wireless-p68-signatura-sound-green.html\n",
      "Message: session not created\n",
      "from no such execution context: uniqueContextId not found\n",
      "  (Session info: MicrosoftEdge=117.0.2045.31)\n",
      "\n",
      "1020\n"
     ]
    },
    {
     "name": "stderr",
     "output_type": "stream",
     "text": [
      "C:\\Users\\Content Designer\\AppData\\Local\\Temp\\ipykernel_23172\\802269280.py:85: DeprecationWarning: Selenium Tools for Microsoft Edge is deprecated. Please upgrade to Selenium 4 which has built-in support for Microsoft Edge (Chromium): https://docs.microsoft.com/en-us/microsoft-edge/webdriver-chromium/#upgrading-from-selenium-3\n",
      "  driver = Edge(executable_path=r\"C:\\Users\\Content Designer\\Downloads\\msedgedriver.exe\")\n"
     ]
    },
    {
     "name": "stdout",
     "output_type": "stream",
     "text": [
      "1030\n"
     ]
    },
    {
     "name": "stderr",
     "output_type": "stream",
     "text": [
      "C:\\Users\\Content Designer\\AppData\\Local\\Temp\\ipykernel_23172\\802269280.py:85: DeprecationWarning: Selenium Tools for Microsoft Edge is deprecated. Please upgrade to Selenium 4 which has built-in support for Microsoft Edge (Chromium): https://docs.microsoft.com/en-us/microsoft-edge/webdriver-chromium/#upgrading-from-selenium-3\n",
      "  driver = Edge(executable_path=r\"C:\\Users\\Content Designer\\Downloads\\msedgedriver.exe\")\n"
     ]
    },
    {
     "name": "stdout",
     "output_type": "stream",
     "text": [
      "1040\n"
     ]
    },
    {
     "name": "stderr",
     "output_type": "stream",
     "text": [
      "C:\\Users\\Content Designer\\AppData\\Local\\Temp\\ipykernel_23172\\802269280.py:85: DeprecationWarning: Selenium Tools for Microsoft Edge is deprecated. Please upgrade to Selenium 4 which has built-in support for Microsoft Edge (Chromium): https://docs.microsoft.com/en-us/microsoft-edge/webdriver-chromium/#upgrading-from-selenium-3\n",
      "  driver = Edge(executable_path=r\"C:\\Users\\Content Designer\\Downloads\\msedgedriver.exe\")\n"
     ]
    },
    {
     "name": "stdout",
     "output_type": "stream",
     "text": [
      "1050\n"
     ]
    },
    {
     "name": "stderr",
     "output_type": "stream",
     "text": [
      "C:\\Users\\Content Designer\\AppData\\Local\\Temp\\ipykernel_23172\\802269280.py:85: DeprecationWarning: Selenium Tools for Microsoft Edge is deprecated. Please upgrade to Selenium 4 which has built-in support for Microsoft Edge (Chromium): https://docs.microsoft.com/en-us/microsoft-edge/webdriver-chromium/#upgrading-from-selenium-3\n",
      "  driver = Edge(executable_path=r\"C:\\Users\\Content Designer\\Downloads\\msedgedriver.exe\")\n"
     ]
    },
    {
     "name": "stdout",
     "output_type": "stream",
     "text": [
      "1060\n"
     ]
    },
    {
     "name": "stderr",
     "output_type": "stream",
     "text": [
      "C:\\Users\\Content Designer\\AppData\\Local\\Temp\\ipykernel_23172\\802269280.py:85: DeprecationWarning: Selenium Tools for Microsoft Edge is deprecated. Please upgrade to Selenium 4 which has built-in support for Microsoft Edge (Chromium): https://docs.microsoft.com/en-us/microsoft-edge/webdriver-chromium/#upgrading-from-selenium-3\n",
      "  driver = Edge(executable_path=r\"C:\\Users\\Content Designer\\Downloads\\msedgedriver.exe\")\n"
     ]
    },
    {
     "name": "stdout",
     "output_type": "stream",
     "text": [
      "1070\n"
     ]
    },
    {
     "name": "stderr",
     "output_type": "stream",
     "text": [
      "C:\\Users\\Content Designer\\AppData\\Local\\Temp\\ipykernel_23172\\802269280.py:85: DeprecationWarning: Selenium Tools for Microsoft Edge is deprecated. Please upgrade to Selenium 4 which has built-in support for Microsoft Edge (Chromium): https://docs.microsoft.com/en-us/microsoft-edge/webdriver-chromium/#upgrading-from-selenium-3\n",
      "  driver = Edge(executable_path=r\"C:\\Users\\Content Designer\\Downloads\\msedgedriver.exe\")\n"
     ]
    },
    {
     "name": "stdout",
     "output_type": "stream",
     "text": [
      "https://dream2000.com/lava-speaker-st-550-8w.html\n",
      "Message: session not created\n",
      "from no such execution context: loader has changed while resolving nodes\n",
      "  (Session info: MicrosoftEdge=117.0.2045.31)\n",
      "\n",
      "https://dream2000.com/kisonli-speaker-rgb-muslk-lp-3s-black.html\n",
      "Message: unknown error: cannot determine loading status\n",
      "from no such window\n",
      "  (Session info: MicrosoftEdge=117.0.2045.31)\n",
      "\n",
      "1080\n"
     ]
    },
    {
     "name": "stderr",
     "output_type": "stream",
     "text": [
      "C:\\Users\\Content Designer\\AppData\\Local\\Temp\\ipykernel_23172\\802269280.py:85: DeprecationWarning: Selenium Tools for Microsoft Edge is deprecated. Please upgrade to Selenium 4 which has built-in support for Microsoft Edge (Chromium): https://docs.microsoft.com/en-us/microsoft-edge/webdriver-chromium/#upgrading-from-selenium-3\n",
      "  driver = Edge(executable_path=r\"C:\\Users\\Content Designer\\Downloads\\msedgedriver.exe\")\n"
     ]
    },
    {
     "name": "stdout",
     "output_type": "stream",
     "text": [
      "1090\n"
     ]
    },
    {
     "name": "stderr",
     "output_type": "stream",
     "text": [
      "C:\\Users\\Content Designer\\AppData\\Local\\Temp\\ipykernel_23172\\802269280.py:85: DeprecationWarning: Selenium Tools for Microsoft Edge is deprecated. Please upgrade to Selenium 4 which has built-in support for Microsoft Edge (Chromium): https://docs.microsoft.com/en-us/microsoft-edge/webdriver-chromium/#upgrading-from-selenium-3\n",
      "  driver = Edge(executable_path=r\"C:\\Users\\Content Designer\\Downloads\\msedgedriver.exe\")\n"
     ]
    },
    {
     "name": "stdout",
     "output_type": "stream",
     "text": [
      "1100\n"
     ]
    },
    {
     "name": "stderr",
     "output_type": "stream",
     "text": [
      "C:\\Users\\Content Designer\\AppData\\Local\\Temp\\ipykernel_23172\\802269280.py:85: DeprecationWarning: Selenium Tools for Microsoft Edge is deprecated. Please upgrade to Selenium 4 which has built-in support for Microsoft Edge (Chromium): https://docs.microsoft.com/en-us/microsoft-edge/webdriver-chromium/#upgrading-from-selenium-3\n",
      "  driver = Edge(executable_path=r\"C:\\Users\\Content Designer\\Downloads\\msedgedriver.exe\")\n"
     ]
    },
    {
     "name": "stdout",
     "output_type": "stream",
     "text": [
      "1110\n"
     ]
    },
    {
     "name": "stderr",
     "output_type": "stream",
     "text": [
      "C:\\Users\\Content Designer\\AppData\\Local\\Temp\\ipykernel_23172\\802269280.py:85: DeprecationWarning: Selenium Tools for Microsoft Edge is deprecated. Please upgrade to Selenium 4 which has built-in support for Microsoft Edge (Chromium): https://docs.microsoft.com/en-us/microsoft-edge/webdriver-chromium/#upgrading-from-selenium-3\n",
      "  driver = Edge(executable_path=r\"C:\\Users\\Content Designer\\Downloads\\msedgedriver.exe\")\n"
     ]
    },
    {
     "name": "stdout",
     "output_type": "stream",
     "text": [
      "1120\n"
     ]
    },
    {
     "name": "stderr",
     "output_type": "stream",
     "text": [
      "C:\\Users\\Content Designer\\AppData\\Local\\Temp\\ipykernel_23172\\802269280.py:85: DeprecationWarning: Selenium Tools for Microsoft Edge is deprecated. Please upgrade to Selenium 4 which has built-in support for Microsoft Edge (Chromium): https://docs.microsoft.com/en-us/microsoft-edge/webdriver-chromium/#upgrading-from-selenium-3\n",
      "  driver = Edge(executable_path=r\"C:\\Users\\Content Designer\\Downloads\\msedgedriver.exe\")\n"
     ]
    },
    {
     "name": "stdout",
     "output_type": "stream",
     "text": [
      "1130\n"
     ]
    },
    {
     "name": "stderr",
     "output_type": "stream",
     "text": [
      "C:\\Users\\Content Designer\\AppData\\Local\\Temp\\ipykernel_23172\\802269280.py:85: DeprecationWarning: Selenium Tools for Microsoft Edge is deprecated. Please upgrade to Selenium 4 which has built-in support for Microsoft Edge (Chromium): https://docs.microsoft.com/en-us/microsoft-edge/webdriver-chromium/#upgrading-from-selenium-3\n",
      "  driver = Edge(executable_path=r\"C:\\Users\\Content Designer\\Downloads\\msedgedriver.exe\")\n"
     ]
    },
    {
     "name": "stdout",
     "output_type": "stream",
     "text": [
      "1140\n"
     ]
    },
    {
     "name": "stderr",
     "output_type": "stream",
     "text": [
      "C:\\Users\\Content Designer\\AppData\\Local\\Temp\\ipykernel_23172\\802269280.py:85: DeprecationWarning: Selenium Tools for Microsoft Edge is deprecated. Please upgrade to Selenium 4 which has built-in support for Microsoft Edge (Chromium): https://docs.microsoft.com/en-us/microsoft-edge/webdriver-chromium/#upgrading-from-selenium-3\n",
      "  driver = Edge(executable_path=r\"C:\\Users\\Content Designer\\Downloads\\msedgedriver.exe\")\n"
     ]
    },
    {
     "name": "stdout",
     "output_type": "stream",
     "text": [
      "1150\n"
     ]
    },
    {
     "name": "stderr",
     "output_type": "stream",
     "text": [
      "C:\\Users\\Content Designer\\AppData\\Local\\Temp\\ipykernel_23172\\802269280.py:85: DeprecationWarning: Selenium Tools for Microsoft Edge is deprecated. Please upgrade to Selenium 4 which has built-in support for Microsoft Edge (Chromium): https://docs.microsoft.com/en-us/microsoft-edge/webdriver-chromium/#upgrading-from-selenium-3\n",
      "  driver = Edge(executable_path=r\"C:\\Users\\Content Designer\\Downloads\\msedgedriver.exe\")\n"
     ]
    },
    {
     "name": "stdout",
     "output_type": "stream",
     "text": [
      "1160\n"
     ]
    },
    {
     "name": "stderr",
     "output_type": "stream",
     "text": [
      "C:\\Users\\Content Designer\\AppData\\Local\\Temp\\ipykernel_23172\\802269280.py:85: DeprecationWarning: Selenium Tools for Microsoft Edge is deprecated. Please upgrade to Selenium 4 which has built-in support for Microsoft Edge (Chromium): https://docs.microsoft.com/en-us/microsoft-edge/webdriver-chromium/#upgrading-from-selenium-3\n",
      "  driver = Edge(executable_path=r\"C:\\Users\\Content Designer\\Downloads\\msedgedriver.exe\")\n"
     ]
    },
    {
     "name": "stdout",
     "output_type": "stream",
     "text": [
      "1170\n"
     ]
    },
    {
     "name": "stderr",
     "output_type": "stream",
     "text": [
      "C:\\Users\\Content Designer\\AppData\\Local\\Temp\\ipykernel_23172\\802269280.py:85: DeprecationWarning: Selenium Tools for Microsoft Edge is deprecated. Please upgrade to Selenium 4 which has built-in support for Microsoft Edge (Chromium): https://docs.microsoft.com/en-us/microsoft-edge/webdriver-chromium/#upgrading-from-selenium-3\n",
      "  driver = Edge(executable_path=r\"C:\\Users\\Content Designer\\Downloads\\msedgedriver.exe\")\n"
     ]
    },
    {
     "name": "stdout",
     "output_type": "stream",
     "text": [
      "1180\n"
     ]
    },
    {
     "name": "stderr",
     "output_type": "stream",
     "text": [
      "C:\\Users\\Content Designer\\AppData\\Local\\Temp\\ipykernel_23172\\802269280.py:85: DeprecationWarning: Selenium Tools for Microsoft Edge is deprecated. Please upgrade to Selenium 4 which has built-in support for Microsoft Edge (Chromium): https://docs.microsoft.com/en-us/microsoft-edge/webdriver-chromium/#upgrading-from-selenium-3\n",
      "  driver = Edge(executable_path=r\"C:\\Users\\Content Designer\\Downloads\\msedgedriver.exe\")\n"
     ]
    },
    {
     "name": "stdout",
     "output_type": "stream",
     "text": [
      "1190\n"
     ]
    },
    {
     "name": "stderr",
     "output_type": "stream",
     "text": [
      "C:\\Users\\Content Designer\\AppData\\Local\\Temp\\ipykernel_23172\\802269280.py:85: DeprecationWarning: Selenium Tools for Microsoft Edge is deprecated. Please upgrade to Selenium 4 which has built-in support for Microsoft Edge (Chromium): https://docs.microsoft.com/en-us/microsoft-edge/webdriver-chromium/#upgrading-from-selenium-3\n",
      "  driver = Edge(executable_path=r\"C:\\Users\\Content Designer\\Downloads\\msedgedriver.exe\")\n"
     ]
    },
    {
     "name": "stdout",
     "output_type": "stream",
     "text": [
      "1200\n"
     ]
    },
    {
     "name": "stderr",
     "output_type": "stream",
     "text": [
      "C:\\Users\\Content Designer\\AppData\\Local\\Temp\\ipykernel_23172\\802269280.py:85: DeprecationWarning: Selenium Tools for Microsoft Edge is deprecated. Please upgrade to Selenium 4 which has built-in support for Microsoft Edge (Chromium): https://docs.microsoft.com/en-us/microsoft-edge/webdriver-chromium/#upgrading-from-selenium-3\n",
      "  driver = Edge(executable_path=r\"C:\\Users\\Content Designer\\Downloads\\msedgedriver.exe\")\n"
     ]
    },
    {
     "name": "stdout",
     "output_type": "stream",
     "text": [
      "https://dream2000.com/imou-camera-rex-2mp-indoor-smart-security-ipc-a26lp.html\n",
      "Message: session not created\n",
      "from no such execution context: uniqueContextId not found\n",
      "  (Session info: MicrosoftEdge=117.0.2045.31)\n",
      "\n",
      "1210\n"
     ]
    },
    {
     "name": "stderr",
     "output_type": "stream",
     "text": [
      "C:\\Users\\Content Designer\\AppData\\Local\\Temp\\ipykernel_23172\\802269280.py:85: DeprecationWarning: Selenium Tools for Microsoft Edge is deprecated. Please upgrade to Selenium 4 which has built-in support for Microsoft Edge (Chromium): https://docs.microsoft.com/en-us/microsoft-edge/webdriver-chromium/#upgrading-from-selenium-3\n",
      "  driver = Edge(executable_path=r\"C:\\Users\\Content Designer\\Downloads\\msedgedriver.exe\")\n"
     ]
    },
    {
     "name": "stdout",
     "output_type": "stream",
     "text": [
      "1220\n"
     ]
    },
    {
     "name": "stderr",
     "output_type": "stream",
     "text": [
      "C:\\Users\\Content Designer\\AppData\\Local\\Temp\\ipykernel_23172\\802269280.py:85: DeprecationWarning: Selenium Tools for Microsoft Edge is deprecated. Please upgrade to Selenium 4 which has built-in support for Microsoft Edge (Chromium): https://docs.microsoft.com/en-us/microsoft-edge/webdriver-chromium/#upgrading-from-selenium-3\n",
      "  driver = Edge(executable_path=r\"C:\\Users\\Content Designer\\Downloads\\msedgedriver.exe\")\n"
     ]
    },
    {
     "name": "stdout",
     "output_type": "stream",
     "text": [
      "https://dream2000.com/tp-link-tl-sf1008d-network-switch-8-ports-100-mbps.html\n",
      "Message: unknown error: cannot determine loading status\n",
      "from no such window\n",
      "  (Session info: MicrosoftEdge=117.0.2045.31)\n",
      "\n",
      "1230\n"
     ]
    },
    {
     "name": "stderr",
     "output_type": "stream",
     "text": [
      "C:\\Users\\Content Designer\\AppData\\Local\\Temp\\ipykernel_23172\\802269280.py:85: DeprecationWarning: Selenium Tools for Microsoft Edge is deprecated. Please upgrade to Selenium 4 which has built-in support for Microsoft Edge (Chromium): https://docs.microsoft.com/en-us/microsoft-edge/webdriver-chromium/#upgrading-from-selenium-3\n",
      "  driver = Edge(executable_path=r\"C:\\Users\\Content Designer\\Downloads\\msedgedriver.exe\")\n"
     ]
    },
    {
     "name": "stdout",
     "output_type": "stream",
     "text": [
      "1240\n"
     ]
    },
    {
     "name": "stderr",
     "output_type": "stream",
     "text": [
      "C:\\Users\\Content Designer\\AppData\\Local\\Temp\\ipykernel_23172\\802269280.py:85: DeprecationWarning: Selenium Tools for Microsoft Edge is deprecated. Please upgrade to Selenium 4 which has built-in support for Microsoft Edge (Chromium): https://docs.microsoft.com/en-us/microsoft-edge/webdriver-chromium/#upgrading-from-selenium-3\n",
      "  driver = Edge(executable_path=r\"C:\\Users\\Content Designer\\Downloads\\msedgedriver.exe\")\n"
     ]
    },
    {
     "name": "stdout",
     "output_type": "stream",
     "text": [
      "1250\n"
     ]
    },
    {
     "name": "stderr",
     "output_type": "stream",
     "text": [
      "C:\\Users\\Content Designer\\AppData\\Local\\Temp\\ipykernel_23172\\802269280.py:85: DeprecationWarning: Selenium Tools for Microsoft Edge is deprecated. Please upgrade to Selenium 4 which has built-in support for Microsoft Edge (Chromium): https://docs.microsoft.com/en-us/microsoft-edge/webdriver-chromium/#upgrading-from-selenium-3\n",
      "  driver = Edge(executable_path=r\"C:\\Users\\Content Designer\\Downloads\\msedgedriver.exe\")\n"
     ]
    },
    {
     "name": "stdout",
     "output_type": "stream",
     "text": [
      "1260\n"
     ]
    },
    {
     "name": "stderr",
     "output_type": "stream",
     "text": [
      "C:\\Users\\Content Designer\\AppData\\Local\\Temp\\ipykernel_23172\\802269280.py:85: DeprecationWarning: Selenium Tools for Microsoft Edge is deprecated. Please upgrade to Selenium 4 which has built-in support for Microsoft Edge (Chromium): https://docs.microsoft.com/en-us/microsoft-edge/webdriver-chromium/#upgrading-from-selenium-3\n",
      "  driver = Edge(executable_path=r\"C:\\Users\\Content Designer\\Downloads\\msedgedriver.exe\")\n"
     ]
    },
    {
     "name": "stdout",
     "output_type": "stream",
     "text": [
      "1270\n"
     ]
    },
    {
     "name": "stderr",
     "output_type": "stream",
     "text": [
      "C:\\Users\\Content Designer\\AppData\\Local\\Temp\\ipykernel_23172\\802269280.py:85: DeprecationWarning: Selenium Tools for Microsoft Edge is deprecated. Please upgrade to Selenium 4 which has built-in support for Microsoft Edge (Chromium): https://docs.microsoft.com/en-us/microsoft-edge/webdriver-chromium/#upgrading-from-selenium-3\n",
      "  driver = Edge(executable_path=r\"C:\\Users\\Content Designer\\Downloads\\msedgedriver.exe\")\n"
     ]
    },
    {
     "name": "stdout",
     "output_type": "stream",
     "text": [
      "https://dream2000.com/i-lock-power-strip-5-outlets-with-switch-2-usb.html\n",
      "Message: session not created\n",
      "from no such execution context: uniqueContextId not found\n",
      "  (Session info: MicrosoftEdge=117.0.2045.31)\n",
      "\n",
      "1280\n"
     ]
    },
    {
     "name": "stderr",
     "output_type": "stream",
     "text": [
      "C:\\Users\\Content Designer\\AppData\\Local\\Temp\\ipykernel_23172\\802269280.py:85: DeprecationWarning: Selenium Tools for Microsoft Edge is deprecated. Please upgrade to Selenium 4 which has built-in support for Microsoft Edge (Chromium): https://docs.microsoft.com/en-us/microsoft-edge/webdriver-chromium/#upgrading-from-selenium-3\n",
      "  driver = Edge(executable_path=r\"C:\\Users\\Content Designer\\Downloads\\msedgedriver.exe\")\n"
     ]
    },
    {
     "name": "stdout",
     "output_type": "stream",
     "text": [
      "1290\n"
     ]
    },
    {
     "name": "stderr",
     "output_type": "stream",
     "text": [
      "C:\\Users\\Content Designer\\AppData\\Local\\Temp\\ipykernel_23172\\802269280.py:85: DeprecationWarning: Selenium Tools for Microsoft Edge is deprecated. Please upgrade to Selenium 4 which has built-in support for Microsoft Edge (Chromium): https://docs.microsoft.com/en-us/microsoft-edge/webdriver-chromium/#upgrading-from-selenium-3\n",
      "  driver = Edge(executable_path=r\"C:\\Users\\Content Designer\\Downloads\\msedgedriver.exe\")\n"
     ]
    },
    {
     "name": "stdout",
     "output_type": "stream",
     "text": [
      "https://dream2000.com/gran-turismo-sport-game-play-station-4.html\n",
      "Message: unknown error: cannot determine loading status\n",
      "from no such window\n",
      "  (Session info: MicrosoftEdge=117.0.2045.31)\n",
      "\n",
      "1300\n"
     ]
    },
    {
     "name": "stderr",
     "output_type": "stream",
     "text": [
      "C:\\Users\\Content Designer\\AppData\\Local\\Temp\\ipykernel_23172\\802269280.py:85: DeprecationWarning: Selenium Tools for Microsoft Edge is deprecated. Please upgrade to Selenium 4 which has built-in support for Microsoft Edge (Chromium): https://docs.microsoft.com/en-us/microsoft-edge/webdriver-chromium/#upgrading-from-selenium-3\n",
      "  driver = Edge(executable_path=r\"C:\\Users\\Content Designer\\Downloads\\msedgedriver.exe\")\n"
     ]
    },
    {
     "name": "stdout",
     "output_type": "stream",
     "text": [
      "1310\n"
     ]
    },
    {
     "name": "stderr",
     "output_type": "stream",
     "text": [
      "C:\\Users\\Content Designer\\AppData\\Local\\Temp\\ipykernel_23172\\802269280.py:85: DeprecationWarning: Selenium Tools for Microsoft Edge is deprecated. Please upgrade to Selenium 4 which has built-in support for Microsoft Edge (Chromium): https://docs.microsoft.com/en-us/microsoft-edge/webdriver-chromium/#upgrading-from-selenium-3\n",
      "  driver = Edge(executable_path=r\"C:\\Users\\Content Designer\\Downloads\\msedgedriver.exe\")\n"
     ]
    },
    {
     "name": "stdout",
     "output_type": "stream",
     "text": [
      "1320\n"
     ]
    },
    {
     "name": "stderr",
     "output_type": "stream",
     "text": [
      "C:\\Users\\Content Designer\\AppData\\Local\\Temp\\ipykernel_23172\\802269280.py:85: DeprecationWarning: Selenium Tools for Microsoft Edge is deprecated. Please upgrade to Selenium 4 which has built-in support for Microsoft Edge (Chromium): https://docs.microsoft.com/en-us/microsoft-edge/webdriver-chromium/#upgrading-from-selenium-3\n",
      "  driver = Edge(executable_path=r\"C:\\Users\\Content Designer\\Downloads\\msedgedriver.exe\")\n"
     ]
    }
   ],
   "source": [
    "products_df = pd.read_excel(r\"D:\\Dream2000 New\\{}\".format(\"products sheet no touch please.xlsx\"))\n",
    "star_from = 0\n",
    "def get_data(soup):\n",
    "    try:\n",
    "      products_names.append(soup.find(\"span\", {'data-ui-id':'page-title-wrapper'}).text.strip())\n",
    "    except:\n",
    "      products_names.append(np.nan)\n",
    "\n",
    "\n",
    "    try:\n",
    "      old_prices.append(soup.find(\"span\", {'data-price-type':'oldPrice'}).text)\n",
    "    except:\n",
    "      old_prices.append(np.nan)\n",
    "\n",
    "\n",
    "    try:\n",
    "      new_prices.append(soup.find(\"span\", {'data-price-type':'finalPrice'}).text)\n",
    "    except:\n",
    "      new_prices.append(np.nan)\n",
    "\n",
    "\n",
    "    try:\n",
    "      description_html_list.append(soup.find(\"div\", {'class':'product attribute overview'}))\n",
    "    except:\n",
    "      description_html_list.append(np.nan)\n",
    "\n",
    "\n",
    "    try:\n",
    "      descriptions.append(soup.find(\"div\", {'class':'product attribute overview'}).text.strip())\n",
    "    except:\n",
    "      descriptions.append(np.nan)\n",
    "\n",
    "\n",
    "    try:\n",
    "      availability_list.append(soup.find(\"div\", {'class':'stock available'}).find(\"span\").find_next_siblings()[0].text)\n",
    "    except:\n",
    "      availability_list.append(np.nan)\n",
    "\n",
    "\n",
    "    try:\n",
    "      skus.append(soup.find(\"div\", {'class':'product attribute sku'}).text.replace(\"رمز التخزين التعريفي\", \"\").replace(\"SKU\", \"\").strip())\n",
    "    except:\n",
    "      skus.append(np.nan)\n",
    "\n",
    "\n",
    "\n",
    "    try:\n",
    "      more_info_html_list.append(soup.find(\"tbody\"))  \n",
    "    except:\n",
    "      more_info_html_list.append(np.nan)  \n",
    "\n",
    "\n",
    "    try:\n",
    "      more_info_list.append(soup.find(\"tbody\").text)\n",
    "    except:\n",
    "      more_info_list.append(np.nan)\n",
    "\n",
    "    \n",
    "    internal_images_links = []\n",
    "    try:\n",
    "      for img in soup.find_all(\"div\", {'class':'fotorama__thumb fotorama_vertical_ratio fotorama__loaded fotorama__loaded--img'}) :\n",
    "          internal_images_links.append(f'\\'{img.find(\"img\")[\"src\"]}\\'')\n",
    "\n",
    "      internal_images_links_list.append(' , '.join(internal_images_links))\n",
    "    except:\n",
    "      internal_images_links_list.append(np.nan)\n",
    "\n",
    "\n",
    "    \n",
    "    \n",
    "cat_translation = {'موبايلات': 'Mobiles', 'تابلت': 'Tablets', 'لاب توب & كمبيوتر': 'Laptop & Computer', 'إكسسوارات': 'Accessories', 'إلكترونيات': 'Electronics', 'ألعاب': 'Gaming'}\n",
    "sub_cat_translation = {'ايفون': 'Apple', 'سامسونج': 'Samsung', 'اوبو': 'Oppo', 'شاومى': 'Xiaomi', 'هواوي': 'Huawei', 'هونر': 'Honor', 'ريلمي': 'Realme', 'انفنيكس': 'Infinix', 'نوكيا': 'Nokia', 'فيفو': 'Vivo', 'آيباد': 'Ipad', 'لينوفو': 'Lenovo', 'شاومي': 'Xiaomi', 'لاب توب': 'Laptop', 'شاشات': 'MONITORS', 'طابعات': 'Printer', 'اكسسوارات كمبيوتر': 'Computer Accessories', 'وسائط تخزين': 'Storage', 'ديسك توب': 'Desktop', 'اكسسوارات موبايل': 'Mobile Accessories', 'أجهزة صوت': 'Audio', 'ساعات ذكية': 'Wearables', 'اكسسوارات السيارة': 'Car Accessories', 'كاميرات مراقبة': 'Security Cameras', 'اكسسوارات تصوير': 'Photography accessories', 'اجهزه شبكات': 'Network', 'ميزان ألكتروني': 'SCALES', 'بطاريات': 'Battery', 'كاميرا ديجيتال': 'Digital Cameras', 'اسكوتر': 'Scooter', 'أجهزة منزلية صغيرة': 'Small home appliances', 'معدات و مشتركات كهربائية': 'Electrical Products', 'بلاي ستيشن': 'Playstation', 'أذرع تحكم': 'GamePad', 'سي دي العاب': 'Games CD', 'اكسسوارات العاب': 'Gaming Accessories'}\n",
    "sub_sub_cat_translation = {'أبل': 'Apple', 'لينوفو': 'Lenovo', 'ديل': 'Dell', 'اتش بى': 'Hp', 'ايسر': 'Acer', 'أسوس': 'ASUS', 'ام اس اى': 'Msi', 'بينكو': 'BENQ', 'فيو سونيك': 'View Sonic', 'كانون': 'Canon', 'إبسون': 'Epson', 'مستلزمات طباعة': 'Supplies', 'ماوس وكيبورد': 'Keyboards & Mouse', 'رامات': 'RAMS', 'شنط لابتوب': 'Laptop Bags', 'فلاشات': 'Flash Drives', 'هارد خارجى': 'External Hard', 'هارد داخلى': 'Internal Hard', 'باور بانك': 'Power Bank', 'كابلات': 'Cables', 'شواحن': 'Chargers', 'واقيات شاشة': 'Screen Protector', 'أقلام ذكية': 'Smart Pen', 'جرابات': 'Covers', 'ايربودز': '\\u200fAirPods', 'سماعات': 'Earphones', 'سماعات بلوتوث': 'Headphones', 'مكبرات الصوت': 'Speakers', 'الساعات الذكية': 'Smart Watch', 'باند ذكية': 'Smart Band', 'شواحن السيارة': 'Car Chargers', 'منظف سيارة': 'Car Cleaner', 'شواحن بطارية': 'Jump Starts', 'حامل موبايل': 'Holder', 'شاومى': 'Xiaomi', 'تى بى لينك': 'TP-Link', 'ايزفيز': 'Ezviz', 'إيمو': 'Imou', 'ميكروفونات': 'Microphones', 'مصباح إضاءة': 'Ring Light', 'عصا سيلفي': 'Selfie stick', 'هواوى': 'Huawei', 'بادى': 'Buddy', 'توشيبا': 'Toshiba', 'كاميليون': 'Camelion', 'لدنيو': 'Ldnio', 'اي-لوك': 'i-Lock', 'سونى': 'Sony', 'نينتندو': 'Nintendo', 'لوجيتك': 'Logitech', 'بلايستيشن 4': 'Playstation 4', 'بلايستيشن 5': 'Playstation 5', 'سبريت جيمر': 'Spirit of Gamer', 'ريدراجون': 'Redragon', 'اونيكوما': 'Onikuma', 'أتش بي': 'HP'}\n",
    "language_list, product_cat_list, product_sub_cat_list, product_sub_sub_cat_list, skus, products_names, products_links, old_prices, new_prices, descriptions, availability_list, more_info_list, main_img_links, internal_images_links_list, description_html_list, more_info_html_list = [], [], [], [], [], [], [], [], [], [], [], [], [], [], [], []\n",
    "\n",
    "\n",
    "for product_link, checkpoint in zip(products_df[\"product_link\"][star_from:], range(star_from,len(products_df[\"product_link\"]))):\n",
    "    \n",
    "    try:\n",
    "        options = EdgeOptions()\n",
    "        ua = UserAgent()\n",
    "        options.add_argument(f\"user-agent={ua.random}\")\n",
    "        options.add_argument('--headless')\n",
    "        options.add_experimental_option('w3c', False)\n",
    "        driver = Edge(executable_path=r\"C:\\Users\\Content Designer\\Downloads\\msedgedriver.exe\")\n",
    "\n",
    "        # GET DATA ARABIC\n",
    "\n",
    "        driver.get(product_link)\n",
    "        time.sleep(5)\n",
    "        data = driver.page_source\n",
    "        soup = BeautifulSoup(data, 'html.parser')\n",
    "\n",
    "        language_list.append(\"ar\")\n",
    "        product_cat_list.append(list(products_df[products_df[\"product_link\"] == product_link][\"product_cat\"])[0])\n",
    "        product_sub_cat_list.append(list(products_df[products_df[\"product_link\"] == product_link][\"product_sub_cat\"])[0])\n",
    "        if products_df[products_df[\"product_link\"] == product_link][\"product_sub_sub_cat\"].notna().any():\n",
    "            product_sub_sub_cat_list.append(list(products_df[products_df[\"product_link\"] == product_link][\"product_sub_sub_cat\"])[0])\n",
    "        else:\n",
    "            product_sub_sub_cat_list.append(np.nan)\n",
    "            \n",
    "        products_links.append(product_link)\n",
    "        main_img_links.append(list(products_df[products_df[\"product_link\"] == product_link][\"main_img_link\"])[0])\n",
    "        get_data(soup)\n",
    "\n",
    "\n",
    "        # GET DATA English\n",
    "        driver.get(product_link.replace(\"https://dream2000.com/\", \"https://dream2000.com/en/\"))\n",
    "        time.sleep(5)\n",
    "        data = driver.page_source\n",
    "        soup = BeautifulSoup(data, 'html.parser')\n",
    "\n",
    "        language_list.append(\"en\")\n",
    "        product_cat_list.append(cat_translation[list(products_df[products_df[\"product_link\"] == product_link][\"product_cat\"])[0]])\n",
    "        product_sub_cat_list.append(sub_cat_translation[list(products_df[products_df[\"product_link\"] == product_link][\"product_sub_cat\"])[0]])\n",
    "        if products_df[products_df[\"product_link\"] == product_link][\"product_sub_sub_cat\"].notna().any():\n",
    "            product_sub_sub_cat_list.append(sub_sub_cat_translation[list(products_df[products_df[\"product_link\"] == product_link][\"product_sub_sub_cat\"])[0]])\n",
    "        else:\n",
    "            product_sub_sub_cat_list.append(np.nan)\n",
    "                   \n",
    "        \n",
    "        products_links.append(product_link.replace(\"https://dream2000.com/\", \"https://dream2000.com/en/\"))\n",
    "        main_img_links.append(list(products_df[products_df[\"product_link\"] == product_link][\"main_img_link\"])[0])\n",
    "        get_data(soup)\n",
    "\n",
    "\n",
    "        driver.quit()\n",
    "\n",
    "        if checkpoint%10 == 0:\n",
    "            output_df = pd.DataFrame( {\"language\": language_list,\"category\": product_cat_list,\"sub category\": product_sub_cat_list,\"sku\": skus,\"product name\": products_names,\"product link\": products_links,\"old price\": old_prices,\"new price\": new_prices,\"description\": descriptions,\"availability\": availability_list,\"specs\": more_info_list,\"main img links\": main_img_links,\"internal images links\": internal_images_links_list,\"description in html format\": description_html_list,\"specs in html format\": more_info_html_list})\n",
    "            output_df.to_excel(r\"D:\\Dream2000 New\\checkpoints\\products sheet checkpoint {} .xlsx\".format(checkpoint+1), index=False)\n",
    "            output_df.to_excel(r\"D:\\Dream2000 New\\checkpoints\\accumlative.xlsx\".format(checkpoint+1), index=False)\n",
    "            print(checkpoint)\n",
    "\n",
    "    except Exception as e:\n",
    "        print(product_link)\n",
    "        print(e)\n",
    "        \n",
    "output_df = pd.DataFrame( {\"language\": language_list,\"category\": product_cat_list,\"sub category\": product_sub_cat_list,\"sub sub category\": product_sub_sub_cat_list,\"sku\": skus,\"product name\": products_names,\"product link\": products_links,\"old price\": old_prices,\"new price\": new_prices,\"description\": descriptions,\"availability\": availability_list,\"specs\": more_info_list,\"main img links\": main_img_links,\"internal images links\": internal_images_links_list,\"description in html format\": description_html_list,\"specs in html format\": more_info_html_list})\n",
    "output_df.to_excel(r\"D:\\Dream2000 New\\{}\".format(\"Full products sheet.xlsx\"), index=False)"
   ]
  },
  {
   "cell_type": "code",
   "execution_count": 4,
   "id": "cf6fcf2d",
   "metadata": {},
   "outputs": [
    {
     "data": {
      "text/plain": [
       "2656"
      ]
     },
     "execution_count": 4,
     "metadata": {},
     "output_type": "execute_result"
    }
   ],
   "source": [
    "1328*2\n"
   ]
  },
  {
   "cell_type": "code",
   "execution_count": null,
   "id": "50e77e43",
   "metadata": {},
   "outputs": [],
   "source": []
  }
 ],
 "metadata": {
  "kernelspec": {
   "display_name": "Python 3 (ipykernel)",
   "language": "python",
   "name": "python3"
  },
  "language_info": {
   "codemirror_mode": {
    "name": "ipython",
    "version": 3
   },
   "file_extension": ".py",
   "mimetype": "text/x-python",
   "name": "python",
   "nbconvert_exporter": "python",
   "pygments_lexer": "ipython3",
   "version": "3.11.4"
  }
 },
 "nbformat": 4,
 "nbformat_minor": 5
}
